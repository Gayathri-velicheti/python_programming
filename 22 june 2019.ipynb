{
 "cells": [
  {
   "cell_type": "markdown",
   "metadata": {},
   "source": [
    "#### Day Objectives\n",
    "- File Handling\n",
    "    - Basic File Data Processing\n",
    "        - Accessing and modifying File Data\n",
    "    - Character count\n",
    "    - Line count\n",
    "    - File Size\n",
    "    - Word count\n",
    "    - Unique Word Count"
   ]
  },
  {
   "cell_type": "code",
   "execution_count": 10,
   "metadata": {},
   "outputs": [
    {
     "name": "stdout",
     "output_type": "stream",
     "text": [
      "gayathri\n",
      "Line4\n",
      "Line5\n"
     ]
    }
   ],
   "source": [
    "# Read a file -- file should be exist\n",
    "# Write afile -- Existing(append mode) or New file(write mode)\n",
    "\n",
    "#def readFile(filePath):\n",
    "    #with open(filePath,'r') as f:\n",
    "        #print(type(f))\n",
    "    #return\n",
    "\n",
    "#filePath = 'Data files/data.txt'\n",
    "#readFile(filePath)\n",
    "def readFile(filePath):\n",
    "    with open(filePath,'r') as f:\n",
    "        filedata = f.read()\n",
    "    return filedata\n",
    "\n",
    "filePath = 'Data files/data.txt'\n",
    "print(readFile(filePath))"
   ]
  },
  {
   "cell_type": "code",
   "execution_count": 20,
   "metadata": {},
   "outputs": [
    {
     "name": "stdout",
     "output_type": "stream",
     "text": [
      "3\n"
     ]
    }
   ],
   "source": [
    "# Function for line count\n",
    "\n",
    "def lineCount(file):\n",
    "    with open(filePath,'r') as f:\n",
    "        line = f.read().splitlines()\n",
    "        len1 = len(line)\n",
    "        print(len1)\n",
    "filedata = 'Data files/data.txt'\n",
    "lineCount(filedata)"
   ]
  },
  {
   "cell_type": "code",
   "execution_count": 18,
   "metadata": {},
   "outputs": [
    {
     "name": "stdout",
     "output_type": "stream",
     "text": [
      "4\n"
     ]
    }
   ],
   "source": [
    "#Function for word Count\n",
    "\n",
    "def wordCount(file):\n",
    "    with open(filePath,'r') as f:\n",
    "        line = f.read().split()\n",
    "        len1 = len(line)\n",
    "        print(len1)\n",
    "filedata = 'Data files/data.txt'\n",
    "wordCount(filedata)"
   ]
  },
  {
   "cell_type": "code",
   "execution_count": null,
   "metadata": {},
   "outputs": [],
   "source": [
    "# Function for character  count\n",
    "\n",
    "def lineCount(file):\n",
    "    with open(filePath,'r') as f:\n",
    "        line = f.read().splitlines()\n",
    "        len1 = len(line)\n",
    "        print(len1)\n",
    "filedata = 'Data files/data.txt'\n",
    "lineCount(filedata)"
   ]
  }
 ],
 "metadata": {
  "kernelspec": {
   "display_name": "Python 3",
   "language": "python",
   "name": "python3"
  },
  "language_info": {
   "codemirror_mode": {
    "name": "ipython",
    "version": 3
   },
   "file_extension": ".py",
   "mimetype": "text/x-python",
   "name": "python",
   "nbconvert_exporter": "python",
   "pygments_lexer": "ipython3",
   "version": "3.7.3"
  }
 },
 "nbformat": 4,
 "nbformat_minor": 2
}
