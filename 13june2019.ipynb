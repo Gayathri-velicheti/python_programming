{
 "cells": [
  {
   "cell_type": "code",
   "execution_count": 11,
   "metadata": {},
   "outputs": [
    {
     "name": "stdout",
     "output_type": "stream",
     "text": [
      "enter n value:5\n"
     ]
    },
    {
     "data": {
      "text/plain": [
       "120"
      ]
     },
     "execution_count": 11,
     "metadata": {},
     "output_type": "execute_result"
    }
   ],
   "source": [
    "# Function to calculate the factorial of a given number\n",
    "n = int(input(\"enter n value:\"))\n",
    "def factorial(n):\n",
    "    f = 1\n",
    "    for i in range(1,n+1):\n",
    "            f=f*i\n",
    "    return f \n",
    "factorial(n)"
   ]
  },
  {
   "cell_type": "code",
   "execution_count": 20,
   "metadata": {},
   "outputs": [
    {
     "data": {
      "text/plain": [
       "17.0"
      ]
     },
     "execution_count": 20,
     "metadata": {},
     "output_type": "execute_result"
    }
   ],
   "source": [
    "#Function to calculate average of all factorials in a given a range\n",
    "\n",
    "def fact(n):\n",
    "    f=1\n",
    "    for i in range(1,n+1):\n",
    "        f=f*i\n",
    "    return f\n",
    "\n",
    "def avgfact(lb,ub):\n",
    "    s=0\n",
    "    for i in range(lb,ub+1):\n",
    "        s=s+fact(i)\n",
    "    return s/(ub-lb)+1\n",
    "avgfact(2,4)"
   ]
  },
  {
   "cell_type": "code",
   "execution_count": 1,
   "metadata": {},
   "outputs": [],
   "source": [
    "#Function to generate N odd armstrong numbers \n",
    "\n",
    "def noddamstrong(lb,ub):\n",
    "    for i in range(lb,ub+1):\n",
    "        len1=len(str(i))\n",
    "        j=i\n",
    "        s=0\n",
    "        while(j!=0):\n",
    "            r=j%10\n",
    "            s=s+r**len1\n",
    "            j=j//10\n",
    "        if(s==i and i%2==1):\n",
    "            print(i)\n",
    "    return\n"
   ]
  },
  {
   "cell_type": "code",
   "execution_count": 23,
   "metadata": {},
   "outputs": [
    {
     "name": "stdout",
     "output_type": "stream",
     "text": [
      "100  * 10  =  1000\n",
      "100  * 11  =  1100\n",
      "100  * 12  =  1200\n",
      "100  * 13  =  1300\n",
      "100  * 14  =  1400\n",
      "100  * 15  =  1500\n"
     ]
    }
   ],
   "source": [
    "#Function to generate Multiplication table for a number in a given range\n",
    "#10 in the range(100, 102) inclusive\n",
    "#10 x 100 = 1000\n",
    "#10 x 101 = 1010\n",
    "#10 x 102 = 1020\n",
    "\n",
    "def multable(n,lb,ub):\n",
    "    for i in range(lb,ub+1):\n",
    "        print(n,\" *\",i,\" = \",n*i)\n",
    "    return\n",
    "\n",
    "multable(100,10,15)"
   ]
  },
  {
   "cell_type": "code",
   "execution_count": 13,
   "metadata": {},
   "outputs": [
    {
     "name": "stdout",
     "output_type": "stream",
     "text": [
      "2000 2004 2008 2012 2016 2020 "
     ]
    }
   ],
   "source": [
    "# Function to generate all leap years in a given time period\n",
    "# [2000,2020]-->2000 2004 2008 2012 2016 2020\n",
    "\n",
    "def isLeapYear(year):#To check if a given year is a leapyear\n",
    "    if year % 400 == 0 or (year % 100 != 0 and year %4 == 0):\n",
    "        return True\n",
    "    return False\n",
    " \n",
    "def generateLeapYears(startyear,endyear):\n",
    "    for year in range(startyear,endyear+1):\n",
    "        if isLeapYear(year):\n",
    "            print(year,end=\" \")\n",
    "    return\n",
    "generateLeapYears(2000,2020)"
   ]
  },
  {
   "cell_type": "code",
   "execution_count": null,
   "metadata": {},
   "outputs": [],
   "source": [
    "# Calculate number of days in a given time period using leapYearLogic\n",
    "#For the every year in the given time period,if the year is not a leap year \n",
    "def numberOfDays(startyear,endyear):\n",
    "    sum = 0\n",
    "    for year in range(startyear,endyear+1):\n",
    "        if isLeapYear(year):\n",
    "            print(year,end=\" \")\n",
    "    return\n",
    "numberOfDays(2000,2020)"
   ]
  },
  {
   "cell_type": "code",
   "execution_count": 24,
   "metadata": {},
   "outputs": [
    {
     "ename": "NameError",
     "evalue": "name 'NoofDaysbetween' is not defined",
     "output_type": "error",
     "traceback": [
      "\u001b[1;31m---------------------------------------------------------------------------\u001b[0m",
      "\u001b[1;31mNameError\u001b[0m                                 Traceback (most recent call last)",
      "\u001b[1;32m<ipython-input-24-dbf7f94c7bbc>\u001b[0m in \u001b[0;36m<module>\u001b[1;34m\u001b[0m\n\u001b[0;32m     16\u001b[0m         \u001b[0mh\u001b[0m\u001b[1;33m=\u001b[0m\u001b[0mh\u001b[0m\u001b[1;33m+\u001b[0m\u001b[0ms2\u001b[0m\u001b[1;33m\u001b[0m\u001b[1;33m\u001b[0m\u001b[0m\n\u001b[0;32m     17\u001b[0m     \u001b[1;32mreturn\u001b[0m \u001b[0mh\u001b[0m\u001b[1;33m\u001b[0m\u001b[1;33m\u001b[0m\u001b[0m\n\u001b[1;32m---> 18\u001b[1;33m \u001b[0mNoofHoursbetween\u001b[0m\u001b[1;33m(\u001b[0m\u001b[1;36m11\u001b[0m\u001b[1;33m,\u001b[0m\u001b[1;36m1975\u001b[0m\u001b[1;33m,\u001b[0m\u001b[1;36m3\u001b[0m\u001b[1;33m,\u001b[0m\u001b[1;36m1999\u001b[0m\u001b[1;33m)\u001b[0m\u001b[1;33m\u001b[0m\u001b[1;33m\u001b[0m\u001b[0m\n\u001b[0m",
      "\u001b[1;32m<ipython-input-24-dbf7f94c7bbc>\u001b[0m in \u001b[0;36mNoofHoursbetween\u001b[1;34m(m1, y1, m2, y2)\u001b[0m\n\u001b[0;32m      2\u001b[0m     \u001b[0ms1\u001b[0m\u001b[1;33m=\u001b[0m\u001b[1;36m0\u001b[0m\u001b[1;33m\u001b[0m\u001b[1;33m\u001b[0m\u001b[0m\n\u001b[0;32m      3\u001b[0m     \u001b[0ms2\u001b[0m\u001b[1;33m=\u001b[0m\u001b[1;36m0\u001b[0m\u001b[1;33m\u001b[0m\u001b[1;33m\u001b[0m\u001b[0m\n\u001b[1;32m----> 4\u001b[1;33m     \u001b[0mh\u001b[0m\u001b[1;33m=\u001b[0m\u001b[0mNoofDaysbetween\u001b[0m\u001b[1;33m(\u001b[0m\u001b[0my1\u001b[0m\u001b[1;33m+\u001b[0m\u001b[1;36m1\u001b[0m\u001b[1;33m,\u001b[0m\u001b[0my2\u001b[0m\u001b[1;33m)\u001b[0m\u001b[1;33m*\u001b[0m\u001b[1;36m24\u001b[0m\u001b[1;33m\u001b[0m\u001b[1;33m\u001b[0m\u001b[0m\n\u001b[0m\u001b[0;32m      5\u001b[0m     \u001b[1;32mif\u001b[0m\u001b[1;33m(\u001b[0m\u001b[0misLeapYear\u001b[0m\u001b[1;33m(\u001b[0m\u001b[0my1\u001b[0m\u001b[1;33m)\u001b[0m \u001b[1;32mand\u001b[0m \u001b[0mm1\u001b[0m\u001b[1;33m<=\u001b[0m\u001b[1;36m2\u001b[0m\u001b[1;33m)\u001b[0m\u001b[1;33m:\u001b[0m\u001b[1;33m\u001b[0m\u001b[1;33m\u001b[0m\u001b[0m\n\u001b[0;32m      6\u001b[0m         \u001b[0ms1\u001b[0m\u001b[1;33m=\u001b[0m\u001b[1;36m12\u001b[0m\u001b[1;33m-\u001b[0m\u001b[0mm1\u001b[0m\u001b[1;33m\u001b[0m\u001b[1;33m\u001b[0m\u001b[0m\n",
      "\u001b[1;31mNameError\u001b[0m: name 'NoofDaysbetween' is not defined"
     ]
    }
   ],
   "source": [
    "def NoofHoursbetween(m1,y1,m2,y2):\n",
    "    s1=0\n",
    "    s2=0\n",
    "    h=NoofDaysbetween(y1+1,y2)*24\n",
    "    if(isLeapYear(y1) and m1<=2):\n",
    "        s1=12-m1\n",
    "        h=h+s1+1\n",
    "    else:\n",
    "        s1=12-m1\n",
    "        h=h+s1\n",
    "    if(isLeapYear(y2) and m2<=2):\n",
    "        s2=12-m2\n",
    "        h=h+s2+1\n",
    "    else:\n",
    "        s2=12-m2\n",
    "        h=h+s2\n",
    "    return h\n",
    "NoofHoursbetween(11,1975,3,1999)"
   ]
  },
  {
   "cell_type": "code",
   "execution_count": 35,
   "metadata": {},
   "outputs": [
    {
     "data": {
      "text/plain": [
       "4344"
      ]
     },
     "execution_count": 35,
     "metadata": {},
     "output_type": "execute_result"
    }
   ],
   "source": [
    "#Function to calculate number of hours for a given period\n",
    "#numberOfHours(11,1975,3,1999)\n",
    "#numberOfHours(5,2019,6,2019)-->1464\n",
    "#2,2016 ,6, 2019\n",
    "\n",
    "#[all days]\n",
    "#No of hours =24*no of days\n",
    "#3steps\n",
    "   #1.start month year to end year -- calculate no of\n",
    "    #2.Calculate days for all years between start year\n",
    "          #  2017 ,2018 -365*no of years\n",
    "    #3.Calculate days from jan to end month year\n",
    "    \n",
    "#Excluding feb\n",
    "#First six months - 1,3,4,5,6,7\n",
    "                    #All even \n",
    "    \n",
    "        \n",
    "def numDaysInMonth(month,year):\n",
    "    if month == 2:\n",
    "        if isLeapYear(year):\n",
    "            return 29\n",
    "        return 28\n",
    "    elif (month <=7 and month % 2 ==0) or (month >= 7 and month !=0):\n",
    "        return 31\n",
    "    else:\n",
    "        return 30\n",
    "    \n",
    "def daysInStartYear(startmonth,startyear):\n",
    "    days =0\n",
    "    for month in range(startmonth,13):\n",
    "        days += numDaysInMonth(month,startyear)\n",
    "    return days\n",
    "\n",
    "def daysInEndYear(endmonth,endyear):\n",
    "    days = 0\n",
    "    for month in range(1,endmonth+1):\n",
    "        days += numDaysInMonth(month,endyear)\n",
    "    return days\n",
    "\n",
    "def numberOfHours(startmonth,startyear,endmonth,endyear):\n",
    "    days = 0\n",
    "    if startyear != endyear:\n",
    "        days += daysInStartYear(startmonth,startyear)\n",
    "        days += daysInEndYear(endmonth,endyear)\n",
    "        if endyear - startyear == 2:# 2019 -- 2017\n",
    "            days += numberOfDays(startyear+1, startyear+1)\n",
    "        elif endyear - startyear > 2:\n",
    "            days += numberOfDays(startyear+1, endyear-1)\n",
    "        else:\n",
    "            for month in range(startmonth,endmonth):\n",
    "                days += numberOfDaysMonth(startyear+1, endyear-1)\n",
    "                \n",
    "        return 24 * days\n",
    "numberOfHours(11, 1975, 3, 1999)\n"
   ]
  },
  {
   "cell_type": "code",
   "execution_count": null,
   "metadata": {},
   "outputs": [],
   "source": []
  },
  {
   "cell_type": "code",
   "execution_count": null,
   "metadata": {},
   "outputs": [],
   "source": []
  }
 ],
 "metadata": {
  "kernelspec": {
   "display_name": "Python 3",
   "language": "python",
   "name": "python3"
  },
  "language_info": {
   "codemirror_mode": {
    "name": "ipython",
    "version": 3
   },
   "file_extension": ".py",
   "mimetype": "text/x-python",
   "name": "python",
   "nbconvert_exporter": "python",
   "pygments_lexer": "ipython3",
   "version": "3.7.3"
  }
 },
 "nbformat": 4,
 "nbformat_minor": 2
}
