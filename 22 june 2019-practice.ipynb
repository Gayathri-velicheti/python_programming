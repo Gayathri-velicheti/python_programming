{
 "cells": [
  {
   "cell_type": "markdown",
   "metadata": {},
   "source": [
    "### Date : 22 June 2019\n",
    "\n",
    "### Day Objectives\n",
    "- File Handling\n",
    "    - Basic File Data Processing\n",
    "        - Accessing and modfying File Data\n",
    "    - Character Count\n",
    "    - Line Count\n",
    "    - File Size\n",
    "    - Word Count\n",
    "    - Unique Word Count "
   ]
  },
  {
   "cell_type": "code",
   "execution_count": 1,
   "metadata": {},
   "outputs": [
    {
     "name": "stdout",
     "output_type": "stream",
     "text": [
      "gayathri\n",
      "Line4\n",
      "Line5 line6\n"
     ]
    }
   ],
   "source": [
    "# Read a file -- file should be exist\n",
    "# Write afile -- Existing(append mode) or New file(write mode)\n",
    "\n",
    "#def readFile(filePath):\n",
    "    #with open(filePath,'r') as f:\n",
    "        #print(type(f))\n",
    "    #return\n",
    "\n",
    "#filePath = 'Data files/data.txt'\n",
    "#readFile(filePath)\n",
    "def readFile(filePath):\n",
    "    with open(filePath,'r') as f:\n",
    "        filedata = f.read() #Reads the entire file data into a string\n",
    "    return filedata\n",
    "\n",
    "filePath = 'Data files/data.txt'\n",
    "print(readFile(filePath))"
   ]
  },
  {
   "cell_type": "code",
   "execution_count": 7,
   "metadata": {},
   "outputs": [
    {
     "name": "stdout",
     "output_type": "stream",
     "text": [
      "3\n",
      "4\n",
      "26\n"
     ]
    }
   ],
   "source": [
    "def file(filedata):\n",
    "    with open(filedata) as infile:\n",
    "        lines = 0\n",
    "        words = 0\n",
    "        unique = \"\"\n",
    "        characters = 0\n",
    "        for line in infile:\n",
    "            wordslist = line.split(' ')\n",
    "            lines = lines + 1\n",
    "            words = words + len(wordslist)\n",
    "            characters = characters + len(line)\n",
    "        print(lines)\n",
    "        print(words)\n",
    "        print(characters)\n",
    "\n",
    "filedata = 'Data files/data.txt'\n",
    "file(filedata)"
   ]
  },
  {
   "cell_type": "code",
   "execution_count": 6,
   "metadata": {},
   "outputs": [
    {
     "name": "stdout",
     "output_type": "stream",
     "text": [
      "0.024KB\n"
     ]
    }
   ],
   "source": [
    "def fileSize(fileLocation):\n",
    "    characters = 0\n",
    "    with open(fileLocation,'r') as f:\n",
    "        for line in f:\n",
    "            line = line.strip()\n",
    "            characters = characters + len(line)\n",
    "        if(characters == 1000):\n",
    "            print(\"1KB\")\n",
    "        elif(characters>=1000 or characters<1000):\n",
    "            a = characters/1000\n",
    "            print(str(a)+\"KB\")\n",
    "        \n",
    "fileLocation = \"Data files/data.txt\"\n",
    "\n",
    "fileSize(fileLocation)"
   ]
  },
  {
   "cell_type": "code",
   "execution_count": 5,
   "metadata": {},
   "outputs": [
    {
     "name": "stdout",
     "output_type": "stream",
     "text": [
      "gayathri Line4 Line5 line6 "
     ]
    }
   ],
   "source": [
    "def uniquewords(words):\n",
    "    unique = []\n",
    "    with open(words) as data:\n",
    "        for line in data:\n",
    "            line = line.strip()\n",
    "            wordsList = line.split()\n",
    "            for worddata in wordsList:\n",
    "                if((wordsList.count(worddata)==1) and  (worddata not in unique)):\n",
    "                    unique.append(worddata)\n",
    "                else:\n",
    "                    continue\n",
    "        for w in unique:\n",
    "            print(w, end = \" \")\n",
    "            \n",
    "words = \"Data files/data.txt\"\n",
    "uniquewords(words)"
   ]
  },
  {
   "cell_type": "code",
   "execution_count": null,
   "metadata": {},
   "outputs": [],
   "source": []
  }
 ],
 "metadata": {
  "kernelspec": {
   "display_name": "Python 3",
   "language": "python",
   "name": "python3"
  },
  "language_info": {
   "codemirror_mode": {
    "name": "ipython",
    "version": 3
   },
   "file_extension": ".py",
   "mimetype": "text/x-python",
   "name": "python",
   "nbconvert_exporter": "python",
   "pygments_lexer": "ipython3",
   "version": "3.7.3"
  }
 },
 "nbformat": 4,
 "nbformat_minor": 2
}
