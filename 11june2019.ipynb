{
 "cells": [
  {
   "cell_type": "markdown",
   "metadata": {},
   "source": [
    "## Markdown Basics\n",
    "* **Bold**<br>\n",
    "* *Italic*<br>\n",
    "* ***BoldItalic***\n",
    "* Normal text\n",
    "    * Sublist-1\n",
    "      * Sublist-2\n",
    "      \n",
    "\n",
    "1. Ordered list element-1\n",
    "2. Ordered list element-2\n",
    "\n",
    "\n",
    "[G-power](download.png)\n",
    "\n",
    "\n",
    "- [ ] Option-1\n",
    "- [ ] Option-2\n",
    "\n",
    "\n",
    "![G-power](download.png)\n",
    "\n",
    "<img src=\"download.png\">\n",
    "\n",
    "\n",
    "\n",
    "I get 10 times more traffic from [Google][] than from\n",
    "[Yahoo][] or [MSN][].\n",
    "\n",
    "  [google]: http://google.com/        \"Google\"\n",
    "  [yahoo]:  http://search.yahoo.com/  \"Yahoo Search\"\n",
    "  [msn]:    http://search.msn.com/    \"MSN Search\"\n",
    "  \n",
    "  \n",
    "  \n",
    "  \n",
    "  \n",
    "  \n",
    "  [Google]: http://google.com/"
   ]
  },
  {
   "cell_type": "markdown",
   "metadata": {},
   "source": [
    "## Python Basics\n",
    "\n",
    "### Python Version 3.7"
   ]
  },
  {
   "cell_type": "code",
   "execution_count": 11,
   "metadata": {},
   "outputs": [
    {
     "name": "stdout",
     "output_type": "stream",
     "text": [
      "gaya3\n",
      "Good afternoon !,arjun\n"
     ]
    }
   ],
   "source": [
    "# Python comments\n",
    "\n",
    "print(\"gaya3\")\n",
    "print(\"Good afternoon\", \"!\",end=\",\")\n",
    "print(\"arjun\")"
   ]
  },
  {
   "cell_type": "markdown",
   "metadata": {},
   "source": [
    "## Assignment"
   ]
  },
  {
   "cell_type": "code",
   "execution_count": 12,
   "metadata": {},
   "outputs": [],
   "source": [
    "a = \"nikhila\"\n",
    "b = \"arjun\""
   ]
  },
  {
   "cell_type": "code",
   "execution_count": 13,
   "metadata": {},
   "outputs": [
    {
     "name": "stdout",
     "output_type": "stream",
     "text": [
      "nikhila\n",
      "arjun\n"
     ]
    }
   ],
   "source": [
    "print(a)\n",
    "print(b)"
   ]
  },
  {
   "cell_type": "code",
   "execution_count": 35,
   "metadata": {},
   "outputs": [],
   "source": [
    "n1 = 123 #single variable assignment\n",
    "\n",
    "n5 = n2 = n3 = n4 = n1 #multi variable assignment"
   ]
  },
  {
   "cell_type": "code",
   "execution_count": 36,
   "metadata": {},
   "outputs": [
    {
     "data": {
      "text/plain": [
       "123"
      ]
     },
     "execution_count": 36,
     "metadata": {},
     "output_type": "execute_result"
    }
   ],
   "source": [
    "n4"
   ]
  },
  {
   "cell_type": "code",
   "execution_count": 23,
   "metadata": {},
   "outputs": [
    {
     "data": {
      "text/plain": [
       "(123, 234, 345)"
      ]
     },
     "execution_count": 23,
     "metadata": {},
     "output_type": "execute_result"
    }
   ],
   "source": [
    "a,b,c = 123,234,345 #multi variable assignment with different values\n",
    "\n",
    "a,b,c\n"
   ]
  },
  {
   "cell_type": "markdown",
   "metadata": {},
   "source": [
    "## Data Types\n",
    "- int\n",
    "- float\n",
    "- string\n",
    "- double"
   ]
  },
  {
   "cell_type": "code",
   "execution_count": 51,
   "metadata": {},
   "outputs": [
    {
     "data": {
      "text/plain": [
       "12.0"
      ]
     },
     "execution_count": 51,
     "metadata": {},
     "output_type": "execute_result"
    }
   ],
   "source": [
    "type(a)\n",
    "s1 = \"python\"\n",
    "type(s1)\n",
    "\n",
    "f1 = 12.345\n",
    "type(f1)\n",
    "int(f1)\n",
    "float(str(int(f1)))"
   ]
  },
  {
   "cell_type": "code",
   "execution_count": null,
   "metadata": {},
   "outputs": [],
   "source": []
  },
  {
   "cell_type": "markdown",
   "metadata": {},
   "source": [
    "## Arthematic Operations\n",
    "* +\n",
    "* -\n",
    "* *\n",
    "* /\n",
    "* %\n",
    "* //\n",
    "- **"
   ]
  },
  {
   "cell_type": "code",
   "execution_count": 40,
   "metadata": {},
   "outputs": [],
   "source": [
    "n1 % 11\n",
    "n2 = 5"
   ]
  },
  {
   "cell_type": "code",
   "execution_count": 55,
   "metadata": {},
   "outputs": [
    {
     "data": {
      "text/plain": [
       "6130687873308026945890176790042303730066739281"
      ]
     },
     "execution_count": 55,
     "metadata": {},
     "output_type": "execute_result"
    }
   ],
   "source": [
    "n3 = n2 ** 12\n",
    "n3\n",
    "\n",
    "type(n3)\n",
    "#len(str(n3))\n",
    "n3\n",
    "atoms = 10 ** 82\n",
    "len(str(atoms))\n",
    "type(str(atoms))\n",
    "\n",
    "122321 ** 9 "
   ]
  },
  {
   "cell_type": "code",
   "execution_count": 45,
   "metadata": {},
   "outputs": [],
   "source": [
    "atoms = 10 ** 82"
   ]
  },
  {
   "cell_type": "markdown",
   "metadata": {},
   "source": [
    "## Conditionals"
   ]
  },
  {
   "cell_type": "code",
   "execution_count": 59,
   "metadata": {},
   "outputs": [
    {
     "name": "stdout",
     "output_type": "stream",
     "text": [
      "True\n"
     ]
    }
   ],
   "source": [
    "if atoms < 10 ** 96:\n",
    "    print(\"True\")\n",
    "else:\n",
    "    print(\"False\")"
   ]
  },
  {
   "cell_type": "code",
   "execution_count": 2,
   "metadata": {},
   "outputs": [
    {
     "name": "stdout",
     "output_type": "stream",
     "text": [
      "Enter the n number234\n",
      "Even\n"
     ]
    }
   ],
   "source": [
    "# Check if a number is Even\n",
    "\n",
    "n = int(input(\"Enter the n number\"))\n",
    "if n % 2 == 0:\n",
    "    print(\"Even\")\n",
    "else:\n",
    "    print(\"Odd\")"
   ]
  },
  {
   "cell_type": "code",
   "execution_count": 4,
   "metadata": {},
   "outputs": [
    {
     "name": "stdout",
     "output_type": "stream",
     "text": [
      "Enter the first number100\n",
      "Enter the second number2\n",
      "Enter the third number300\n",
      "300 is the greatest\n"
     ]
    }
   ],
   "source": [
    "# find the greatest number of given three numbers\n",
    "\n",
    "n1 = int(input(\"Enter the first number\"))\n",
    "n2 = int(input(\"Enter the second number\"))\n",
    "n3 = int(input(\"Enter the third number\"))\n",
    "\n",
    "if n1 >= n2 and n1>=n3:\n",
    "    print(n1, \"is the greatest\")\n",
    "elif n2 > n3:\n",
    "    print(n2, \"is the greatest\")\n",
    "else:\n",
    "    print(n3, \"is the greatest\")"
   ]
  },
  {
   "cell_type": "code",
   "execution_count": null,
   "metadata": {},
   "outputs": [],
   "source": [
    "# Check if a year is a leap year\n",
    "\n",
    "l = int(input(\"enter l value\"))\n",
    "if(l%400== 0 or (l%4==0 and l%100!=0)):\n",
    "    print(\"Given number is a leap year\")\n",
    "else:\n",
    "    print(\"Not a leap year\")"
   ]
  },
  {
   "cell_type": "code",
   "execution_count": null,
   "metadata": {},
   "outputs": [],
   "source": [
    "## Check if a number exists in a given range(inclusive)\n",
    "\n",
    "n1 = int(input(\"enter n1 value\"))\n",
    "lb = int(input(\"enter lowerbound\"))\n",
    "ub = int(input(\"enter upperbound\"))\n",
    "if (n1>=lb) and (n1<=ub):\n",
    "    print(\"given number is in the given range\")\n",
    "else:\n",
    "    print(\"given range is out of range\")"
   ]
  },
  {
   "cell_type": "code",
   "execution_count": 3,
   "metadata": {},
   "outputs": [
    {
     "name": "stdout",
     "output_type": "stream",
     "text": [
      "9\n"
     ]
    }
   ],
   "source": [
    "# Calculate the number of digits in a number\n",
    "n1 = 134245925\n",
    "print(len(str(n1)))"
   ]
  },
  {
   "cell_type": "code",
   "execution_count": null,
   "metadata": {},
   "outputs": [],
   "source": [
    "# Check if a number is a multiple of 10\n",
    "if n % 10 == 0:\n",
    "    print(n1, \"is a multiple of 10\")\n",
    "else:\n",
    "    print(n1, \"is not a multiple of 10\")"
   ]
  },
  {
   "cell_type": "code",
   "execution_count": null,
   "metadata": {},
   "outputs": [],
   "source": [
    "# Check if a number is a factor of 1000\n",
    "\n",
    "n = int(input(\"enter n1 value\"))\n",
    "if 1000 % n1 == 0:\n",
    "    print(n1,\"is a factor of 1000\")\n",
    "else:\n",
    "    print(n1,\"is not a factor of 1000\")"
   ]
  },
  {
   "cell_type": "code",
   "execution_count": null,
   "metadata": {},
   "outputs": [],
   "source": [
    "# Check if a given string is equal ta a number\n",
    "s1 = \"python\"\n",
    "n1 = 123456\n",
    "if str(n1) == s1:\n",
    "    print(n1, \"is equal to\", s1)\n",
    "else:\n",
    "    print(n1, \"is not equal to\", s1)\n",
    "\n"
   ]
  },
  {
   "cell_type": "code",
   "execution_count": null,
   "metadata": {},
   "outputs": [],
   "source": [
    "# Calculate the square root of a number without functions\n",
    "\n",
    "n = int(input(\"enter n1 value\"))\n",
    "n ** 0.5"
   ]
  },
  {
   "cell_type": "code",
   "execution_count": null,
   "metadata": {},
   "outputs": [],
   "source": [
    "# Calculate the number of nano seconds in a \n",
    "# given year(considering leap year logic)\n",
    "year = 2019\n",
    "if l%400== 0 or (l%4==0 and l%100!=0):\n",
    "    print(366 * 24 * 60 * (10*9))\n",
    "else:\n",
    "    print(365 * 24 * 60 * (10*9))\n",
    "    "
   ]
  },
  {
   "cell_type": "code",
   "execution_count": null,
   "metadata": {},
   "outputs": [],
   "source": []
  }
 ],
 "metadata": {
  "kernelspec": {
   "display_name": "Python 3",
   "language": "python",
   "name": "python3"
  },
  "language_info": {
   "codemirror_mode": {
    "name": "ipython",
    "version": 3
   },
   "file_extension": ".py",
   "mimetype": "text/x-python",
   "name": "python",
   "nbconvert_exporter": "python",
   "pygments_lexer": "ipython3",
   "version": "3.7.3"
  }
 },
 "nbformat": 4,
 "nbformat_minor": 2
}
