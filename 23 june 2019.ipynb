{
 "cells": [
  {
   "cell_type": "markdown",
   "metadata": {},
   "source": [
    "#### Day Objectives\n",
    "- File Handling\n",
    "    - Basic File Data Processing\n",
    "        - Accessing and modifying File Data\n",
    "    - Character count\n",
    "    - Line count\n",
    "    - File Size\n",
    "    - Word count\n",
    "    - Unique Word Count"
   ]
  },
  {
   "cell_type": "code",
   "execution_count": 22,
   "metadata": {},
   "outputs": [
    {
     "name": "stdout",
     "output_type": "stream",
     "text": [
      "Tom and Jerry is an American animated series of comedy short films created in 1940 by William Hanna and Joseph Barbera.\n",
      "It centers on a rivalry between the title characters Tom, a cat, and Jerry, a mouse.\n",
      "Many shorts also feature several recurring characters.\n"
     ]
    }
   ],
   "source": [
    "# Read a file -- file should be exist\n",
    "# Write afile -- Existing(append mode) or New file(write mode)\n",
    "\n",
    "#def readFile(filePath):\n",
    "    #with open(filePath,'r') as f:\n",
    "        #print(type(f))\n",
    "    #return\n",
    "\n",
    "#filePath = 'Data files/data.txt'\n",
    "#readFile(filePath)\n",
    "def readFile(filePath):\n",
    "    with open(filePath,'r') as f:\n",
    "        filedata = f.read() #Reads the entire file data into a string\n",
    "    return filedata\n",
    "\n",
    "filePath = 'Data files/data.txt'\n",
    "print(readFile(filePath))"
   ]
  },
  {
   "cell_type": "code",
   "execution_count": 23,
   "metadata": {},
   "outputs": [
    {
     "data": {
      "text/plain": [
       "['Tom and Jerry is an American animated series of comedy short films created in 1940 by William Hanna and Joseph Barbera.',\n",
       " 'It centers on a rivalry between the title characters Tom, a cat, and Jerry, a mouse.',\n",
       " 'Many shorts also feature several recurring characters.']"
      ]
     },
     "execution_count": 23,
     "metadata": {},
     "output_type": "execute_result"
    }
   ],
   "source": [
    "# Function to read a file into a list of lines\n",
    "# Each element in the list is one line in the file - Line Processing\n",
    "def readFileIntoList(filepath):\n",
    "    with open(filePath, 'r') as f:\n",
    "        filedata = f.read()\n",
    "        lines = filedata.split('\\n')\n",
    "        #lines = []\n",
    "        #for line in f: \n",
    "            #lines.append(line)\n",
    "    return lines\n",
    "\n",
    "filepath = 'Data files/data.txt'\n",
    "readFileIntoList(filepath)"
   ]
  },
  {
   "cell_type": "code",
   "execution_count": 24,
   "metadata": {},
   "outputs": [
    {
     "data": {
      "text/plain": [
       "3"
      ]
     },
     "execution_count": 24,
     "metadata": {},
     "output_type": "execute_result"
    }
   ],
   "source": [
    "# Function to count number of lines in a file\n",
    "\n",
    "def countLinesFile(filepath):\n",
    "    count = len(readFileIntoList(filepath))\n",
    "    return count\n",
    "\n",
    "countLinesFile(filepath)"
   ]
  },
  {
   "cell_type": "code",
   "execution_count": 25,
   "metadata": {},
   "outputs": [
    {
     "data": {
      "text/plain": [
       "259"
      ]
     },
     "execution_count": 25,
     "metadata": {},
     "output_type": "execute_result"
    }
   ],
   "source": [
    "#Function to count the number of characters in a file\n",
    "\n",
    "def charCountFile(filepath):\n",
    "    count = len(readFile(filepath))\n",
    "    return count\n",
    "charCountFile(filepath)"
   ]
  },
  {
   "cell_type": "code",
   "execution_count": 26,
   "metadata": {},
   "outputs": [
    {
     "data": {
      "text/plain": [
       "44"
      ]
     },
     "execution_count": 26,
     "metadata": {},
     "output_type": "execute_result"
    }
   ],
   "source": [
    "\n",
    "# Function to count the number of words in a file\n",
    "import re\n",
    "\n",
    "def wordCountFile(filepath):\n",
    "    pattern = '[ \\n]'\n",
    "    filedata = readFile(filepath)\n",
    "    count = len(re.split(pattern, filedata))\n",
    "    return count\n",
    "\n",
    "wordCountFile(filepath)"
   ]
  },
  {
   "cell_type": "code",
   "execution_count": 27,
   "metadata": {},
   "outputs": [
    {
     "name": "stdout",
     "output_type": "stream",
     "text": [
      "3\n"
     ]
    }
   ],
   "source": [
    "# Function for line count\n",
    "\n",
    "def lineCount(file):\n",
    "    with open(filePath,'r') as f:\n",
    "        line = f.read().splitlines()\n",
    "        len1 = len(line)\n",
    "        print(len1)\n",
    "filedata = 'Data files/data.txt'\n",
    "lineCount(filedata)"
   ]
  },
  {
   "cell_type": "code",
   "execution_count": 28,
   "metadata": {},
   "outputs": [
    {
     "name": "stdout",
     "output_type": "stream",
     "text": [
      "44\n"
     ]
    }
   ],
   "source": [
    "#Function for word Count\n",
    "\n",
    "def wordCount(file):\n",
    "    with open(filePath,'r') as f:\n",
    "        line = f.read().split()\n",
    "        len1 = len(line)\n",
    "        print(len1)\n",
    "filedata = 'Data files/data.txt'\n",
    "wordCount(filedata)"
   ]
  },
  {
   "cell_type": "code",
   "execution_count": 29,
   "metadata": {},
   "outputs": [
    {
     "name": "stdout",
     "output_type": "stream",
     "text": [
      "['Tom and Jerry is an American animated series of comedy short films created in 1940 by William Hanna and Joseph Barbera.', 'It centers on a rivalry between the title characters Tom, a cat, and Jerry, a mouse.', 'Many shorts also feature several recurring characters.']\n"
     ]
    }
   ],
   "source": [
    "# Function for list of lines  count\n",
    "\n",
    "def readFileIntoList(filePath):\n",
    "    with open(filePath,'r') as f:\n",
    "        filedata = f.read()\n",
    "        lines = filedata.split('\\n')\n",
    "        #lines = []\n",
    "        #for line in f:\n",
    "            #lines.append(line)\n",
    "    return lines\n",
    "\n",
    "\n",
    "filePath = 'Data files/data.txt'\n",
    "print(readFileIntoList(filePath)) "
   ]
  },
  {
   "cell_type": "code",
   "execution_count": 30,
   "metadata": {},
   "outputs": [
    {
     "data": {
      "text/plain": [
       "[1, 2, 3]"
      ]
     },
     "execution_count": 30,
     "metadata": {},
     "output_type": "execute_result"
    }
   ],
   "source": [
    "# Function to get unique elements in a list\n",
    "\n",
    "# [1,2,3,3,2,1] --> [1,2,3]\n",
    "#Create a empty unique list [1,2,3]\n",
    "\n",
    "#\n",
    "\n",
    "def uniqueData(li):\n",
    "    # Create an empty unique list\n",
    "    unique = []\n",
    "    # For every element in the main list,\n",
    "     # Check if it exists in the unique list.\n",
    "     # If it does not exist,add it to unique list\n",
    "     # else if it already exists,move on to \n",
    "    for element in li:\n",
    "        if element not in unique:\n",
    "            unique.append(element)\n",
    "    return unique\n",
    "li = [1,2,3,3,2,1]\n",
    "\n",
    "uniqueData(li)\n",
    "    "
   ]
  },
  {
   "cell_type": "code",
   "execution_count": 31,
   "metadata": {},
   "outputs": [
    {
     "name": "stdout",
     "output_type": "stream",
     "text": [
      "39\n"
     ]
    }
   ],
   "source": [
    "def UniqueWord(datafile):\n",
    "    unique = []\n",
    "    C = 0\n",
    "    with open(datafile,'r') as f:\n",
    "        for line in f:\n",
    "            line = line.strip()\n",
    "            word = line.split()\n",
    "            for w in word:\n",
    "                if((word.count(w)==1) and (w not in unique)):\n",
    "                    unique.append(w)\n",
    "                    C = C+1 \n",
    "                else:\n",
    "                    continue\n",
    "        print(C) \n",
    "UniqueWord('Data Files\\data.txt')"
   ]
  },
  {
   "cell_type": "code",
   "execution_count": 32,
   "metadata": {},
   "outputs": [
    {
     "name": "stdout",
     "output_type": "stream",
     "text": [
      "Tom : 1\n",
      "and : 3\n",
      "Jerry : 1\n",
      "is : 1\n",
      "an : 1\n",
      "American : 1\n",
      "animated : 1\n",
      "series : 1\n",
      "of : 1\n",
      "comedy : 1\n",
      "short : 1\n",
      "films : 1\n",
      "created : 1\n",
      "in : 1\n",
      "1940 : 1\n",
      "by : 1\n",
      "William : 1\n",
      "Hanna : 1\n",
      "Joseph : 1\n",
      "Barbera. : 1\n",
      "It : 1\n",
      "centers : 1\n",
      "on : 1\n",
      "a : 3\n",
      "rivalry : 1\n",
      "between : 1\n",
      "the : 1\n",
      "title : 1\n",
      "characters : 1\n",
      "Tom, : 1\n",
      "cat, : 1\n",
      "Jerry, : 1\n",
      "mouse. : 1\n",
      "Many : 1\n",
      "shorts : 1\n",
      "also : 1\n",
      "feature : 1\n",
      "several : 1\n",
      "recurring : 1\n",
      "characters. : 1\n"
     ]
    }
   ],
   "source": [
    "# Function to print the frequency count of a all unique\n",
    "# Frequency \n",
    "# Function to print the frequency count of all words in a file\n",
    "# Frequency Distribution\n",
    "\n",
    "# Data in Line 1\n",
    "# Data in Line 2\n",
    "# Data in Line 3\n",
    "# O/P\n",
    "# Data : 3\n",
    "# in : 3\n",
    "# Line : 3\n",
    "# 1 : 1\n",
    "# 2 : 1\n",
    "# 3 : 1\n",
    "\n",
    "def Frequency(datafile):\n",
    "    unique = []\n",
    "    count = 0\n",
    "    with open(datafile,'r') as f:\n",
    "        line = f.read()\n",
    "        for i in line.split():\n",
    "            if i in unique:\n",
    "                continue\n",
    "            else:\n",
    "                unique.append(i)\n",
    "                print(i,\":\",line.split().count(i))\n",
    "    return\n",
    "Frequency('Data files/data.txt')"
   ]
  },
  {
   "cell_type": "code",
   "execution_count": null,
   "metadata": {},
   "outputs": [],
   "source": [
    "# Function to print the frequency count of a all unique\n",
    "# Frequency \n",
    "# Function to print the frequency count of all words in a file\n",
    "# Frequency Distribution\n",
    "\n",
    "# Data in Line 1\n",
    "# Data in Line 2\n",
    "# Data in Line 3\n",
    "# O/P\n",
    "# Data : 3\n",
    "# in : 3\n",
    "# Line : 3\n",
    "# 1 : 1\n",
    "# 2 : 1\n",
    "# 3 : 1\n",
    "\n",
    "def FreqDistributionOfWords(filepath):\n",
    "    # Dictionary \n",
    "    "
   ]
  },
  {
   "cell_type": "code",
   "execution_count": null,
   "metadata": {},
   "outputs": [],
   "source": [
    "#Contacts Application \n",
    "    # Add,Seach,List,Modify Delete contacts\n",
    "    \n",
    "# Find and Replace Application\n",
    "    # Count the total number of occurrances of a word\n",
    "    # If word is existing\n",
    "    # Replace all occurances of a word with  another word\n",
    "    \n",
    "# Marks analysis Application\n",
    "    # Generate the marks file for n students\n",
    "    #Input:Marks textfile --> each line contains marks of each student\n",
    "    # Genarates a report with the following information\n",
    "        # Class Average:\n",
    "        # % of students passed\n",
    "        # % of students failed\n",
    "        # % of students with distinction "
   ]
  }
 ],
 "metadata": {
  "kernelspec": {
   "display_name": "Python 3",
   "language": "python",
   "name": "python3"
  },
  "language_info": {
   "codemirror_mode": {
    "name": "ipython",
    "version": 3
   },
   "file_extension": ".py",
   "mimetype": "text/x-python",
   "name": "python",
   "nbconvert_exporter": "python",
   "pygments_lexer": "ipython3",
   "version": "3.7.3"
  }
 },
 "nbformat": 4,
 "nbformat_minor": 2
}
