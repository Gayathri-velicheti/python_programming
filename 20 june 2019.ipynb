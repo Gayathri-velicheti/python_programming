{
 "cells": [
  {
   "cell_type": "markdown",
   "metadata": {},
   "source": [
    "### Regular Expressions\n",
    "\n",
    "- Pattern Matching\n",
    "- Symbolic Notation of a pattern\n",
    "    - Pattern : Format which repeats\n",
    "    - Regular Expression - represents set of all strings that match to the particular pattern\n",
    "- [0-9] --> Any digit\n",
    "- [a-z] --> Any lower case alphabet\n",
    "- [A-Z]\n",
    "- [2468] or [8642] or [2864] ...etc .--> All single digitb multiples of 2\n",
    "\n",
    "- ^[0-9]{1}$ --> Accept single digit numbers\n",
    "\n",
    "- ^[0-9]{3}$ --> Accept 3 digit numbers\n",
    "\n",
    "- ^[0-9]{2} --> Highlet first two digits\n",
    "\n",
    "- [0-9]{2}$ --> Highlet last 3 digits\n",
    "\n",
    "- ^[0-9]*[0]$ --> Multiples of 10\n",
    "\n",
    "- ^[1-9][0-9]*[0]$ --> Multiples of 10 excluding 0\n",
    "\n",
    "- (^[1-9][0-9]*[0/5])$|^([5])$ --> All multiples of 5\n",
    "\n",
    "- ^[0-9]{10}$ --> Validating a phone number or 10 digit numbers\n",
    "\n",
    "- ^[6-9][0-9]{9}$|^[0][6-9][0-9]{9}$  --> Validating phone number (start with 9876 followed by 9 digits)\n",
    "\n",
    "- [p][r][i][n][t] --> Occurances of a word (Print) in a text file\n",
    "- Email Validation(Username@domain.extension)\n",
    "  - Username\n",
    "    - length [6,15]\n",
    "    - No special characters other than _.\n",
    "    - Begin with numbers not with _.\n",
    "    - not end with _.\n",
    "    - characters set : all digits and alphabet\n",
    "  - Domain\n",
    "    - length [3, 18]\n",
    "    - not allow special characters\n",
    "    - character set : all digits and alphabets\n",
    "  -extension\n",
    "    - length [2, 4]\n",
    "    - not allow numbers and special characters\n",
    "    - character set - only alphabet\n",
    "   \n",
    " ^[a-z0-9][a-z0-9_.]{5,19}[0-9a-z][@][a-z0-9]{3,18}[.][a-z]{2,4}\n",
    " \n",
    " ^[a-z0-9][a-z0-9_.]{5,19}[0-9a-z][@][a-z0-9][0-9a-z.]{3,17}[0-9a-z][.][a-z]{2,4}$\n",
    " \n",
    "- ^[a].*[z]$ --> Any string of any length starting with 'a' and ends with 'z'\n",
    "\n",
    "\n"
   ]
  },
  {
   "cell_type": "code",
   "execution_count": 14,
   "metadata": {},
   "outputs": [
    {
     "name": "stdout",
     "output_type": "stream",
     "text": [
      "64782\n",
      "Does not Match\n"
     ]
    }
   ],
   "source": [
    "import re\n",
    "phoneNumberPattern1 = '^[+][9][1][6-9][0-9]{9}$'\n",
    "ph = input(\"\")\n",
    "if re.match(phoneNumberPattern1, ph):\n",
    "    print('Match')\n",
    "else:\n",
    "    print('Does not Match')"
   ]
  },
  {
   "cell_type": "code",
   "execution_count": 23,
   "metadata": {},
   "outputs": [
    {
     "data": {
      "text/plain": [
       "True"
      ]
     },
     "execution_count": 23,
     "metadata": {},
     "output_type": "execute_result"
    }
   ],
   "source": [
    "# Function to validate a phone number\n",
    "import re\n",
    "\n",
    "def phoneNumberValidator(number):\n",
    "    pattern = '^[6-9][0-9]{9}$|^[0][6-9][0-9]{9}|^[+][9][1][6-9][0-9]{9}$'\n",
    "    if re.match(pattern, number):\n",
    "        return True\n",
    "    return False\n",
    "\n",
    "phoneNumberValidator(\"9876543210\")\n",
    "\n"
   ]
  },
  {
   "cell_type": "code",
   "execution_count": 24,
   "metadata": {},
   "outputs": [
    {
     "data": {
      "text/plain": [
       "True"
      ]
     },
     "execution_count": 24,
     "metadata": {},
     "output_type": "execute_result"
    }
   ],
   "source": [
    "import re \n",
    "\n",
    "def emailValidator(email):\n",
    "    pattern = \"^[0-9a-z][0-9a-z_.]{4,13}[0-9a-z][@][a-z0-9]{3,18}[.][a-z]{2,4}$\"\n",
    "    if re.match(pattern, email):\n",
    "        return True\n",
    "    return False\n",
    "\n",
    "emailValidator(\"gayathri@gmail.com\")"
   ]
  },
  {
   "cell_type": "code",
   "execution_count": null,
   "metadata": {},
   "outputs": [],
   "source": [
    "contacts = {\"name1\":[9876543210, 'name1@domain.ext'], \"name2\":[7654321098, \"name2@domain.ext\"]}\n",
    "\n",
    "def addContact(name, phone, email):\n",
    "    #verify that the contact doesnot already exist\n",
    "    if name in contacts:\n",
    "        print(name, \"already exists.\")\n",
    "        return\n",
    "    else:\n",
    "        if phoneNumberValidator(phone):\n",
    "            print(\"Invalid Phone number\")\n",
    "            return\n",
    "        if emailValidator(email):\n",
    "            print(\"Invalid Email address\")\n",
    "            return\n",
    "        newcontact = []\n",
    "        newcontact.append(phone)\n",
    "        newcontact.append(email)\n",
    "        contacts[name] = newcontact\n",
    "        print(name, \"added successfully\")\n",
    "    return\n",
    "addContact(\"name3\", 98765411, \"name321@gmail.com\")"
   ]
  },
  {
   "cell_type": "code",
   "execution_count": 14,
   "metadata": {},
   "outputs": [
    {
     "name": "stdout",
     "output_type": "stream",
     "text": [
      "name1\n",
      "Phone : 9876543210\n",
      "Email : name1@domain.ext\n"
     ]
    }
   ],
   "source": [
    "def searchContacts(name):\n",
    "    if name in contacts:\n",
    "        print(name)\n",
    "        print(\"Phone :\", contacts[name][0])\n",
    "        print(\"Email :\", contacts[name][1])\n",
    "    else:\n",
    "        print(\"%s does not exist\" % name)\n",
    "    return\n",
    "\n",
    "searchContacts(\"name1\")\n"
   ]
  },
  {
   "cell_type": "code",
   "execution_count": 16,
   "metadata": {},
   "outputs": [
    {
     "name": "stdout",
     "output_type": "stream",
     "text": [
      "1 contacts added successfully\n"
     ]
    },
    {
     "data": {
      "text/plain": [
       "dict_items([('name1', [9876543210, 'name1@domain.ext']), ('name2', [7654321098, 'name2@domain.ext']), ('name3', [9876543211, 'name321@gmail.com']), ('name4', [9753108642, 'name4_123@gmail.com'])])"
      ]
     },
     "execution_count": 16,
     "metadata": {},
     "output_type": "execute_result"
    }
   ],
   "source": [
    "# New contacts is given as a dictionary\n",
    "# Merge new contacts with existing contacts\n",
    "def importContacts(newContacts):\n",
    "    contacts.update(newContacts)\n",
    "    print(len(newContacts.keys()), \"contacts added successfully\")\n",
    "    return\n",
    "\n",
    "newContacts = {\"name4\":[9753108642, \"name4_123@gmail.com\"]}\n",
    "\n",
    "importContacts(newContacts)\n",
    "contacts.items()"
   ]
  },
  {
   "cell_type": "code",
   "execution_count": 15,
   "metadata": {},
   "outputs": [
    {
     "name": "stdout",
     "output_type": "stream",
     "text": [
      "name1\n",
      " Phone : 9876543210\n",
      " Email : name1@domain.ext\n",
      "name2\n",
      " Phone : 7654321098\n",
      " Email : name2@domain.ext\n"
     ]
    }
   ],
   "source": [
    "def listContacts():\n",
    "    for i in contacts:\n",
    "        print(i)\n",
    "        print(\" Phone :\",contacts[i][0])\n",
    "        print(\" Email :\",contacts[i][1])\n",
    "    return\n",
    "listContacts()"
   ]
  },
  {
   "cell_type": "code",
   "execution_count": 17,
   "metadata": {},
   "outputs": [
    {
     "name": "stdout",
     "output_type": "stream",
     "text": [
      "Contact Modified\n"
     ]
    },
    {
     "data": {
      "text/plain": [
       "{'name1': ['8978262222', 'name444_@gmail.com'],\n",
       " 'name2': [7654321098, 'name2@domain.ext']}"
      ]
     },
     "execution_count": 17,
     "metadata": {},
     "output_type": "execute_result"
    }
   ],
   "source": [
    "def modifyContacts(contacts,name,num,email):\n",
    "    if name in contacts:\n",
    "        contacts[name] = [num,email]\n",
    "        print(\"Contact Modified\")\n",
    "    else:\n",
    "        print(\"Contact does not exists\")\n",
    "    return contacts\n",
    "modifyContacts(contacts,\"name1\",\"8978262222\",\"name444_@gmail.com\")"
   ]
  },
  {
   "cell_type": "code",
   "execution_count": 11,
   "metadata": {},
   "outputs": [
    {
     "name": "stdout",
     "output_type": "stream",
     "text": [
      "Contact Removed\n"
     ]
    },
    {
     "data": {
      "text/plain": [
       "{'name2': [7654321098, 'name2@domain.ext']}"
      ]
     },
     "execution_count": 11,
     "metadata": {},
     "output_type": "execute_result"
    }
   ],
   "source": [
    "def removeContact(contacts,name):\n",
    "    if name in contacts:\n",
    "        contacts.pop(name)\n",
    "        print(\"Contact Removed\")\n",
    "    else:\n",
    "        print(\"Contact does not exists\")\n",
    "       \n",
    "    return contacts\n",
    "\n",
    "removeContact(contacts,\"name1\")"
   ]
  },
  {
   "cell_type": "code",
   "execution_count": null,
   "metadata": {},
   "outputs": [],
   "source": []
  },
  {
   "cell_type": "markdown",
   "metadata": {},
   "source": [
    "### File Handling in python\n",
    "\n",
    "File --> Document containing information residing the permanant storage\n",
    "\n",
    "Types --> Text,PDF,CSV etc\n",
    "\n",
    "File I/O - Channelling I/O data to files Default I/O channels - Keyboard / Screen\n",
    "\n",
    "Change I/O channel to files for Reading and writing into files\n",
    "\n",
    "Read a file-Input from file\n",
    "\n",
    "Write to a file - output to that files\n",
    "\n",
    "Read / write file - open(filename, mode)\n"
   ]
  },
  {
   "cell_type": "code",
   "execution_count": 7,
   "metadata": {},
   "outputs": [
    {
     "name": "stdout",
     "output_type": "stream",
     "text": [
      "mahesh\n",
      "Line1\n",
      "Line2\n",
      "Line3\n",
      "Line4\n"
     ]
    }
   ],
   "source": [
    "#Function to read a file\n",
    "\n",
    "def readFile(filename):\n",
    "    f = open(filename,'r')\n",
    "    filedata = f.read()\n",
    "    f.close()\n",
    "    return filedata\n",
    "\n",
    "filename = 'Data files/data.txt'\n",
    "for line in readFile(filename).split('\\n'):\n",
    "    print(line)"
   ]
  },
  {
   "cell_type": "code",
   "execution_count": 8,
   "metadata": {},
   "outputs": [
    {
     "name": "stdout",
     "output_type": "stream",
     "text": [
      "mahesh\n",
      "\n",
      "Line1\n",
      "\n",
      "Line2\n",
      "\n",
      "Line3\n",
      "\n",
      "Line4\n",
      "mahesh\n",
      "Line1\n",
      "Line2\n",
      "Line3\n",
      "Line4\n"
     ]
    }
   ],
   "source": [
    "def printFileDataLines(filename):\n",
    "    with open(filename,'r') as f:\n",
    "        for line in f:\n",
    "            print(line)\n",
    "    return\n",
    "printFileDataLines(filename)\n",
    "print(readFile(filename))"
   ]
  },
  {
   "cell_type": "code",
   "execution_count": 9,
   "metadata": {},
   "outputs": [],
   "source": [
    "# Function to write into a file\n",
    "\n",
    "def writeIntoFile(filename,filedata):\n",
    "    with open(filename,'w') as f:\n",
    "        f.write(filedata)\n",
    "    return\n",
    "\n",
    "filename = 'Data files/data.txt'\n",
    "\n",
    "writeIntoFile(filename,\"gayathri\")"
   ]
  },
  {
   "cell_type": "code",
   "execution_count": 10,
   "metadata": {},
   "outputs": [],
   "source": [
    "\n",
    "# Function to append data to a file\n",
    "\n",
    "def appendDataToFile(filename, filedata):\n",
    "    with open(filename, 'a') as f:\n",
    "        for line in filedata:\n",
    "            f.write('\\n'+line)\n",
    "    return\n",
    "\n",
    "filedata = [\"Line4\", \"Line5\"]\n",
    "appendDataToFile(filename, filedata)"
   ]
  }
 ],
 "metadata": {
  "kernelspec": {
   "display_name": "Python 3",
   "language": "python",
   "name": "python3"
  },
  "language_info": {
   "codemirror_mode": {
    "name": "ipython",
    "version": 3
   },
   "file_extension": ".py",
   "mimetype": "text/x-python",
   "name": "python",
   "nbconvert_exporter": "python",
   "pygments_lexer": "ipython3",
   "version": "3.7.3"
  }
 },
 "nbformat": 4,
 "nbformat_minor": 2
}
