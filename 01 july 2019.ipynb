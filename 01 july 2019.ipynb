{
 "cells": [
  {
   "cell_type": "markdown",
   "metadata": {},
   "source": [
    "### Day Objectives\n",
    "#### Practice on Income Dataset\n",
    "##### Define functions for the following data points\n",
    "- Average Income of all states from 2005 to 2013\n",
    "- State with highest average income in the last three years\n",
    "- State with lowest average income from 2007 to 2010(inclusive)\n",
    "- Print the list of all states in the same line with average income less than California\n",
    "- Print the names of states based on descending order of income in the year 2009\n",
    "- State with the lowest recorded income from 2005 to 2013"
   ]
  },
  {
   "cell_type": "code",
   "execution_count": 2,
   "metadata": {},
   "outputs": [
    {
     "data": {
      "text/html": [
       "<div>\n",
       "<style scoped>\n",
       "    .dataframe tbody tr th:only-of-type {\n",
       "        vertical-align: middle;\n",
       "    }\n",
       "\n",
       "    .dataframe tbody tr th {\n",
       "        vertical-align: top;\n",
       "    }\n",
       "\n",
       "    .dataframe thead th {\n",
       "        text-align: right;\n",
       "    }\n",
       "</style>\n",
       "<table border=\"1\" class=\"dataframe\">\n",
       "  <thead>\n",
       "    <tr style=\"text-align: right;\">\n",
       "      <th></th>\n",
       "      <th>GEOID</th>\n",
       "      <th>State</th>\n",
       "      <th>2005</th>\n",
       "      <th>2006</th>\n",
       "      <th>2007</th>\n",
       "      <th>2008</th>\n",
       "      <th>2009</th>\n",
       "      <th>2010</th>\n",
       "      <th>2011</th>\n",
       "      <th>2012</th>\n",
       "      <th>2013</th>\n",
       "    </tr>\n",
       "  </thead>\n",
       "  <tbody>\n",
       "    <tr>\n",
       "      <th>0</th>\n",
       "      <td>04000US01</td>\n",
       "      <td>Alabama</td>\n",
       "      <td>37150</td>\n",
       "      <td>37952</td>\n",
       "      <td>42212</td>\n",
       "      <td>44476</td>\n",
       "      <td>39980</td>\n",
       "      <td>40933</td>\n",
       "      <td>42590</td>\n",
       "      <td>43464</td>\n",
       "      <td>41381</td>\n",
       "    </tr>\n",
       "    <tr>\n",
       "      <th>1</th>\n",
       "      <td>04000US02</td>\n",
       "      <td>Alaska</td>\n",
       "      <td>55891</td>\n",
       "      <td>56418</td>\n",
       "      <td>62993</td>\n",
       "      <td>63989</td>\n",
       "      <td>61604</td>\n",
       "      <td>57848</td>\n",
       "      <td>57431</td>\n",
       "      <td>63648</td>\n",
       "      <td>61137</td>\n",
       "    </tr>\n",
       "    <tr>\n",
       "      <th>2</th>\n",
       "      <td>04000US04</td>\n",
       "      <td>Arizona</td>\n",
       "      <td>45245</td>\n",
       "      <td>46657</td>\n",
       "      <td>47215</td>\n",
       "      <td>46914</td>\n",
       "      <td>45739</td>\n",
       "      <td>46896</td>\n",
       "      <td>48621</td>\n",
       "      <td>47044</td>\n",
       "      <td>50602</td>\n",
       "    </tr>\n",
       "    <tr>\n",
       "      <th>3</th>\n",
       "      <td>04000US05</td>\n",
       "      <td>Arkansas</td>\n",
       "      <td>36658</td>\n",
       "      <td>37057</td>\n",
       "      <td>40795</td>\n",
       "      <td>39586</td>\n",
       "      <td>36538</td>\n",
       "      <td>38587</td>\n",
       "      <td>41302</td>\n",
       "      <td>39018</td>\n",
       "      <td>39919</td>\n",
       "    </tr>\n",
       "    <tr>\n",
       "      <th>4</th>\n",
       "      <td>04000US06</td>\n",
       "      <td>California</td>\n",
       "      <td>51755</td>\n",
       "      <td>55319</td>\n",
       "      <td>55734</td>\n",
       "      <td>57014</td>\n",
       "      <td>56134</td>\n",
       "      <td>54283</td>\n",
       "      <td>53367</td>\n",
       "      <td>57020</td>\n",
       "      <td>57528</td>\n",
       "    </tr>\n",
       "  </tbody>\n",
       "</table>\n",
       "</div>"
      ],
      "text/plain": [
       "       GEOID       State   2005   2006   2007   2008   2009   2010   2011  \\\n",
       "0  04000US01     Alabama  37150  37952  42212  44476  39980  40933  42590   \n",
       "1  04000US02      Alaska  55891  56418  62993  63989  61604  57848  57431   \n",
       "2  04000US04     Arizona  45245  46657  47215  46914  45739  46896  48621   \n",
       "3  04000US05    Arkansas  36658  37057  40795  39586  36538  38587  41302   \n",
       "4  04000US06  California  51755  55319  55734  57014  56134  54283  53367   \n",
       "\n",
       "    2012   2013  \n",
       "0  43464  41381  \n",
       "1  63648  61137  \n",
       "2  47044  50602  \n",
       "3  39018  39919  \n",
       "4  57020  57528  "
      ]
     },
     "execution_count": 2,
     "metadata": {},
     "output_type": "execute_result"
    }
   ],
   "source": [
    "# Function to read CSV data into a DataFrame and\n",
    "# returns the DataFrame object\n",
    "\n",
    "filepath = 'Data files/income.csv'\n",
    "import pandas as pd\n",
    "def readCSVdata(filepath):\n",
    "    return pd.read_csv(filepath)\n",
    "\n",
    "readCSVdata(filepath)"
   ]
  },
  {
   "cell_type": "code",
   "execution_count": 3,
   "metadata": {},
   "outputs": [],
   "source": [
    "def getRowData(df,rowkey):\n",
    "    for i in range(len(df.values)):\n",
    "        if df.values[i][0] == rowkey or df.values[i][1] == rowkey:\n",
    "            rowindex = i\n",
    "    return rowindex\n",
    "\n",
    "def getColumnData(df,columnkey):\n",
    "    for i in range(len(df.columns)):\n",
    "        if df.columns[i] == columnkey:\n",
    "            columnindex = i\n",
    "    return columnindex"
   ]
  },
  {
   "cell_type": "code",
   "execution_count": 4,
   "metadata": {},
   "outputs": [
    {
     "data": {
      "text/plain": [
       "48525.42222222223"
      ]
     },
     "execution_count": 4,
     "metadata": {},
     "output_type": "execute_result"
    }
   ],
   "source": [
    "# Average Income of all states from 2005 to 2013\n",
    "incomedf=readCSVdata(filepath)\n",
    "def avgofeachcolumn(df,columnindex):\n",
    "    sum=0\n",
    "    for row in incomedf.values:\n",
    "        #print(row[columnindex])\n",
    "        sum+=row[columnindex]\n",
    "    return sum/len(incomedf.values)\n",
    "\n",
    "def avgincomeingivenrange(df,columnkey1,columnkey2):\n",
    "    lb=getColumnData(df,columnkey1)\n",
    "    ub=getColumnData(df,columnkey2)\n",
    "    c=0\n",
    "    sum=0\n",
    "    for columnindex in range(lb,ub+1):\n",
    "        c = c+1\n",
    "        sum = sum+avgofeachcolumn(df,columnindex)\n",
    "    return sum/c\n",
    "avgincomeingivenrange(incomedf,\"2005\",\"2013\")"
   ]
  },
  {
   "cell_type": "code",
   "execution_count": 5,
   "metadata": {},
   "outputs": [
    {
     "data": {
      "text/plain": [
       "48525.42222222222"
      ]
     },
     "execution_count": 5,
     "metadata": {},
     "output_type": "execute_result"
    }
   ],
   "source": [
    "# Average Income of all states from 2005 to 2013\n",
    "incomedf=readCSVdata(filepath)\n",
    "def avgofeachcolumn(df,columnindex):\n",
    "    li = []\n",
    "    for row in incomedf.values:\n",
    "        li.append(row[columnindex])\n",
    "    return li\n",
    "\n",
    "def avgincomeingivenrange(df,columnkey1,columnkey2):\n",
    "    lb = getColumnData(df,columnkey1)\n",
    "    ub = getColumnData(df,columnkey2)\n",
    "    li=[]\n",
    "\n",
    "    for columnindex in range(lb,ub+1):\n",
    "        li.extend(avgofeachcolumn(df,columnindex))\n",
    "    #print(len(li))\n",
    "    return sum(li)/len(li)\n",
    "avgincomeingivenrange(incomedf,\"2005\",\"2013\")"
   ]
  },
  {
   "cell_type": "code",
   "execution_count": 6,
   "metadata": {},
   "outputs": [
    {
     "data": {
      "text/plain": [
       "60738.666666666664"
      ]
     },
     "execution_count": 6,
     "metadata": {},
     "output_type": "execute_result"
    }
   ],
   "source": [
    "# State with highest average income in the last three years\n",
    "\n",
    "def avgofstateingivenrange(df,rowkey,columnkey1,columnkey2):\n",
    "    lb = getColumnData(df,columnkey1)\n",
    "    ub = getColumnData(df,columnkey2)\n",
    "    count=0\n",
    "    sum=0\n",
    "    for row in df.values:\n",
    "        if rowkey in row:\n",
    "            for item in range(lb,ub+1):\n",
    "                count=count+1\n",
    "                sum=sum+row[item] \n",
    "    return sum/count\n",
    "\n",
    "avgofstateingivenrange(incomedf,'Alaska',\"2011\",\"2013\")"
   ]
  },
  {
   "cell_type": "code",
   "execution_count": 7,
   "metadata": {},
   "outputs": [
    {
     "name": "stdout",
     "output_type": "stream",
     "text": [
      "Alaska\n"
     ]
    }
   ],
   "source": [
    "def maxavgincomeingivenrange(df,columnname,columnkey1,columnkey2):\n",
    "    columnindex = getColumnData(df,columnname)\n",
    "    #for rowkey in range(firstrow,lastrow+1):\n",
    "    li={}\n",
    "    for column in incomedf.values:\n",
    "        rowkey=str(column[columnindex])\n",
    "        li[rowkey]=(avgofstateingivenrange(df,rowkey,columnkey1,columnkey2))\n",
    "    for item in li.items():\n",
    "        if item[1]==max(li.values()):\n",
    "            print(item[0])\n",
    "maxavgincomeingivenrange(incomedf,\"State\",\"2005\",\"2013\")"
   ]
  },
  {
   "cell_type": "code",
   "execution_count": 8,
   "metadata": {},
   "outputs": [
    {
     "name": "stdout",
     "output_type": "stream",
     "text": [
      "Arkansas\n"
     ]
    }
   ],
   "source": [
    "# State with lowest average income from 2007 to 2010(inclusive)\n",
    "def maxavgincomeingivenrange(df,columnname,columnkey1,columnkey2):\n",
    "    columnindex = getColumnData(df,columnname)\n",
    "    #for rowkey in range(firstrow,lastrow+1):\n",
    "    li={}\n",
    "    for column in incomedf.values:\n",
    "        rowkey=str(column[columnindex])\n",
    "        li[rowkey]=(avgofstateingivenrange(df,rowkey,columnkey1,columnkey2))\n",
    "    for item in li.items():\n",
    "        if item[1]==min(li.values()):\n",
    "            print(item[0])\n",
    "maxavgincomeingivenrange(incomedf,\"State\",\"2005\",\"2013\")"
   ]
  },
  {
   "cell_type": "code",
   "execution_count": 10,
   "metadata": {},
   "outputs": [
    {
     "data": {
      "text/plain": [
       "60106.555555555555"
      ]
     },
     "execution_count": 10,
     "metadata": {},
     "output_type": "execute_result"
    }
   ],
   "source": [
    "incomedf=readCSVdata(filepath)\n",
    "#def accessdatafromcolumn(df,column):\n",
    "#incomedf.values()\n",
    "def accessdataframerow(df,key):\n",
    "    sum=0\n",
    "    count=0\n",
    "    for row in df.values:\n",
    "        if key in row:\n",
    "            for item in range(2,len(row)):\n",
    "                count+=1\n",
    "                #print(row[item])\n",
    "                sum=sum+row[item]\n",
    "                \n",
    "            #print('\\n')\n",
    "    return sum/count\n",
    "accessdataframerow(incomedf,'Alaska')"
   ]
  },
  {
   "cell_type": "code",
   "execution_count": 12,
   "metadata": {},
   "outputs": [
    {
     "name": "stdout",
     "output_type": "stream",
     "text": [
      "Alabama Arizona Arkansas "
     ]
    }
   ],
   "source": [
    "# Print the list of all states in the same line with average income less than California\n",
    "\n",
    "def avginclessthancalf(df,stateindex,state):\n",
    "    stateindex=getColumnData(df,stateindex)\n",
    "    avgdict={}\n",
    "    for column in df.values:\n",
    "        statekey=str(column[stateindex])\n",
    "        avgdict[statekey]=accessdataframerow(df,statekey)\n",
    "    #print(avgdict)\n",
    "    for item in avgdict.items():\n",
    "        if item[1]<avgdict[state]:\n",
    "            #print(item[1],avgdict[state])\n",
    "            print(item[0],end=' ')\n",
    "avginclessthancalf(incomedf,\"State\",'California')"
   ]
  },
  {
   "cell_type": "code",
   "execution_count": 9,
   "metadata": {},
   "outputs": [
    {
     "name": "stdout",
     "output_type": "stream",
     "text": [
      "Alaska\n",
      "California\n",
      "Arizona\n",
      "Alabama\n",
      "Arkansas\n"
     ]
    }
   ],
   "source": [
    "# Print the names of states based on descending order of income in the year 2009\n",
    "\n",
    "incomedf=readCSVdata(filepath)\n",
    "def avgofeachcolumn(df,columnindex):\n",
    "    li = []\n",
    "    \n",
    "    for row in incomedf.values: \n",
    "        li.append(row[columnindex])\n",
    "    return sorted(li)\n",
    "    if i in li:\n",
    "        print(items(1))\n",
    "avgofeachcolumn(incomedf,6)\n",
    "\n",
    "\n",
    "def desorder(df,columnkey,stateskey):\n",
    "    columnkey=getColumnData(df,columnkey)\n",
    "    stateskey=getColumnData(df,stateskey)\n",
    "    dict={}\n",
    "    for column in df.values:\n",
    "        dict[column[stateskey]]=(column[columnkey])\n",
    "        values=list(dict.values())\n",
    "        v=sorted(values,reverse=True)\n",
    "    for inc in v:\n",
    "        #print(inc)\n",
    "        #print([values.index(inc)])\n",
    "        print(df.values[values.index(inc)][stateskey])\n",
    "        \n",
    "        \n",
    "desorder(incomedf,\"2009\",\"State\") \n"
   ]
  },
  {
   "cell_type": "code",
   "execution_count": 13,
   "metadata": {},
   "outputs": [
    {
     "name": "stdout",
     "output_type": "stream",
     "text": [
      "36538\n",
      "Arkansas\n"
     ]
    }
   ],
   "source": [
    "#State with the lowest recorded income from 2005 to 2013\n",
    "def lowincomeof(df,lb,ub,stateindex):\n",
    "    lb=getColumnData(df,lb)\n",
    "    ub=getColumnData(df,ub)\n",
    "    stateindex=getColumnData(df,stateindex)\n",
    "    list=[]\n",
    "    for column in df.values:\n",
    "        for columindex in range(lb,ub+1):\n",
    "            list.append(column[columindex])\n",
    "    key=min(list)\n",
    "    print(key)\n",
    "    for row in df.values:\n",
    "        if key in row:\n",
    "            print(row[stateindex])\n",
    "lowincomeof(incomedf,\"2005\",\"2013\",\"State\")"
   ]
  },
  {
   "cell_type": "code",
   "execution_count": null,
   "metadata": {},
   "outputs": [],
   "source": []
  }
 ],
 "metadata": {
  "kernelspec": {
   "display_name": "Python 3",
   "language": "python",
   "name": "python3"
  },
  "language_info": {
   "codemirror_mode": {
    "name": "ipython",
    "version": 3
   },
   "file_extension": ".py",
   "mimetype": "text/x-python",
   "name": "python",
   "nbconvert_exporter": "python",
   "pygments_lexer": "ipython3",
   "version": "3.7.3"
  }
 },
 "nbformat": 4,
 "nbformat_minor": 2
}
