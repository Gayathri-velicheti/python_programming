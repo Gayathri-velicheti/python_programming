{
 "cells": [
  {
   "cell_type": "markdown",
   "metadata": {},
   "source": [
    "## Date:-28 june 2019\n",
    "\n",
    "## Daya Objectives\n",
    "- Map\n",
    "- Lambda\n",
    "- Filter\n",
    "- Use cases - File/Data Encryption"
   ]
  },
  {
   "cell_type": "markdown",
   "metadata": {},
   "source": [
    "## Map\n",
    "\n",
    "Mapping - Entity with Function\n",
    "f : x^2\n",
    "x : [1-10]\n",
    "\n",
    "y = f(x)\n",
    " f : x^2\n",
    "x           y\n",
    "1           1\n",
    "2           4\n",
    "3           9\n",
    "4           16\n",
    "5           25\n",
    "\n",
    "map (function,iterable)\n"
   ]
  },
  {
   "cell_type": "code",
   "execution_count": 4,
   "metadata": {},
   "outputs": [
    {
     "data": {
      "text/plain": [
       "16"
      ]
     },
     "execution_count": 4,
     "metadata": {},
     "output_type": "execute_result"
    }
   ],
   "source": [
    "def powerN(a,n):\n",
    "    r = 1\n",
    "    for i in range(1,n):\n",
    "        r *=a\n",
    "    return r \n",
    "\n",
    "powerN(2,10)\n",
    "\n",
    "def recursivePower(a,n):\n",
    "    if n == 0:\n",
    "        return 1\n",
    "    else:\n",
    "        return a* recursivePower(a, n-1)\n",
    "recursivePower(2,4)"
   ]
  },
  {
   "cell_type": "code",
   "execution_count": 6,
   "metadata": {},
   "outputs": [
    {
     "data": {
      "text/plain": [
       "{1, 8, 27, 64, 125, 216}"
      ]
     },
     "execution_count": 6,
     "metadata": {},
     "output_type": "execute_result"
    }
   ],
   "source": [
    "def cube(n):\n",
    "    return n ** 3\n",
    "\n",
    "li = [1,2,3,4,5,6]\n",
    "\n",
    "map(cube, li)\n",
    "set(map(cube,li))"
   ]
  },
  {
   "cell_type": "code",
   "execution_count": 7,
   "metadata": {},
   "outputs": [
    {
     "data": {
      "text/plain": [
       "{1860867}"
      ]
     },
     "execution_count": 7,
     "metadata": {},
     "output_type": "execute_result"
    }
   ],
   "source": [
    "def cube(n):\n",
    "    return n ** 3\n",
    "\n",
    "li = [1,2,3,4,5,6]\n",
    "\n",
    "map(cube, li)\n",
    "set(map(cube,[123]))"
   ]
  },
  {
   "cell_type": "code",
   "execution_count": 10,
   "metadata": {},
   "outputs": [
    {
     "data": {
      "text/plain": [
       "[1.0, 2.0, 3.0, 4.0, 5.0, 6.0]"
      ]
     },
     "execution_count": 10,
     "metadata": {},
     "output_type": "execute_result"
    }
   ],
   "source": [
    "def cube(n):\n",
    "    return n ** 3\n",
    "\n",
    "li = ['1','2','3','4','5','6']\n",
    "\n",
    "li2  =set(map(int,li))\n",
    "list(map(float,li2))"
   ]
  },
  {
   "cell_type": "markdown",
   "metadata": {},
   "source": [
    "## Filter\n",
    "\n",
    "Used to check boolean values"
   ]
  },
  {
   "cell_type": "code",
   "execution_count": 18,
   "metadata": {},
   "outputs": [
    {
     "data": {
      "text/plain": [
       "[1, 2, 'a', 'b', 'c', 3]"
      ]
     },
     "execution_count": 18,
     "metadata": {},
     "output_type": "execute_result"
    }
   ],
   "source": [
    "li = [1,2,'a','b','c',3]\n",
    "def isDigit(c):\n",
    "    c= str(c)\n",
    "    if c.isdigit():\n",
    "        return -1\n",
    "    return 1\n",
    "list(filter(isDigit, li))"
   ]
  },
  {
   "cell_type": "code",
   "execution_count": 29,
   "metadata": {},
   "outputs": [
    {
     "name": "stdout",
     "output_type": "stream",
     "text": [
      "enter n value:5\n"
     ]
    },
    {
     "ename": "TypeError",
     "evalue": "'list' object cannot be interpreted as an integer",
     "output_type": "error",
     "traceback": [
      "\u001b[1;31m---------------------------------------------------------------------------\u001b[0m",
      "\u001b[1;31mTypeError\u001b[0m                                 Traceback (most recent call last)",
      "\u001b[1;32m<ipython-input-29-07d2356f989d>\u001b[0m in \u001b[0;36m<module>\u001b[1;34m\u001b[0m\n\u001b[0;32m     11\u001b[0m \u001b[1;33m\u001b[0m\u001b[0m\n\u001b[0;32m     12\u001b[0m \u001b[0mprimeList\u001b[0m \u001b[1;33m=\u001b[0m \u001b[0mlist\u001b[0m\u001b[1;33m(\u001b[0m\u001b[0mfilter\u001b[0m\u001b[1;33m(\u001b[0m\u001b[0mprime\u001b[0m\u001b[1;33m,\u001b[0m\u001b[0mrange\u001b[0m\u001b[1;33m(\u001b[0m\u001b[0mlb\u001b[0m\u001b[1;33m,\u001b[0m\u001b[0mub\u001b[0m\u001b[1;33m)\u001b[0m\u001b[1;33m)\u001b[0m\u001b[1;33m)\u001b[0m\u001b[1;33m\u001b[0m\u001b[1;33m\u001b[0m\u001b[0m\n\u001b[1;32m---> 13\u001b[1;33m \u001b[0mprimeList2\u001b[0m \u001b[1;33m=\u001b[0m \u001b[1;33m[\u001b[0m\u001b[0mi\u001b[0m \u001b[1;32mfor\u001b[0m \u001b[0mi\u001b[0m \u001b[1;32min\u001b[0m \u001b[0mrange\u001b[0m\u001b[1;33m(\u001b[0m\u001b[0mli\u001b[0m\u001b[1;33m,\u001b[0m\u001b[0mub\u001b[0m\u001b[1;33m+\u001b[0m\u001b[1;36m1\u001b[0m\u001b[1;33m)\u001b[0m \u001b[1;32mif\u001b[0m \u001b[0mprime\u001b[0m\u001b[1;33m(\u001b[0m\u001b[0mi\u001b[0m\u001b[1;33m)\u001b[0m\u001b[1;33m]\u001b[0m\u001b[1;33m\u001b[0m\u001b[1;33m\u001b[0m\u001b[0m\n\u001b[0m\u001b[0;32m     14\u001b[0m \u001b[1;33m\u001b[0m\u001b[0m\n\u001b[0;32m     15\u001b[0m \u001b[0mprint\u001b[0m\u001b[1;33m(\u001b[0m\u001b[0mprimeList\u001b[0m\u001b[1;33m)\u001b[0m\u001b[1;33m\u001b[0m\u001b[1;33m\u001b[0m\u001b[0m\n",
      "\u001b[1;31mTypeError\u001b[0m: 'list' object cannot be interpreted as an integer"
     ]
    }
   ],
   "source": [
    "n = int(input(\"enter n value:\"))\n",
    "def prime(n):\n",
    "    if n < 2:\n",
    "        return False\n",
    "    for i in range(2,n//2+1):\n",
    "        if (n % i == 0):\n",
    "            return False\n",
    "    return True\n",
    "\n",
    "lb, ub = 500,600\n",
    "            \n",
    "primeList = list(filter(prime,range(lb,ub)))\n",
    "primeList2 = [i for i in range(li,ub+1) if prime(i)]\n",
    "\n",
    "#Map fails because it doesn't apply for \n",
    "\n",
    "print(primeList)\n",
    "print(primeList2)"
   ]
  },
  {
   "cell_type": "code",
   "execution_count": 30,
   "metadata": {},
   "outputs": [
    {
     "data": {
      "text/plain": [
       "[1, 8, 27, 64, 125, 216]"
      ]
     },
     "execution_count": 30,
     "metadata": {},
     "output_type": "execute_result"
    }
   ],
   "source": [
    "def cube(n):\n",
    "    return n ** 3\n",
    "\n",
    "li = ['1','2','3','4','5','6']\n",
    "\n",
    "li2  =set(map(int,li))\n",
    "tuple(map(float,li2))\n",
    "numbers = [int(i) for i in li]\n",
    "\n",
    "[cube(i) for i in numbers]"
   ]
  },
  {
   "cell_type": "code",
   "execution_count": null,
   "metadata": {},
   "outputs": [],
   "source": [
    "### Lambda\n",
    "\n",
    "Anonymous functions\n",
    "\n",
    "Can be embedded into List Comprehensions, maps, Filter"
   ]
  },
  {
   "cell_type": "code",
   "execution_count": 31,
   "metadata": {},
   "outputs": [
    {
     "name": "stdout",
     "output_type": "stream",
     "text": [
      "[<function <listcomp>.<lambda> at 0x000001910EA1A048>, <function <listcomp>.<lambda> at 0x000001910EA1A8C8>, <function <listcomp>.<lambda> at 0x000001910EA1AEA0>, <function <listcomp>.<lambda> at 0x000001910E95F620>, <function <listcomp>.<lambda> at 0x000001910E95F6A8>, <function <listcomp>.<lambda> at 0x000001910E95F598>, <function <listcomp>.<lambda> at 0x000001910E95F7B8>, <function <listcomp>.<lambda> at 0x000001910E95F840>, <function <listcomp>.<lambda> at 0x000001910E95F730>, <function <listcomp>.<lambda> at 0x000001910E95F950>]\n"
     ]
    }
   ],
   "source": [
    "a = [lambda x:x%2 == 0 for i in range(1,11)]\n",
    "print(a)\n"
   ]
  },
  {
   "cell_type": "code",
   "execution_count": 37,
   "metadata": {},
   "outputs": [
    {
     "data": {
      "text/plain": [
       "[1, 3, 5]"
      ]
     },
     "execution_count": 37,
     "metadata": {},
     "output_type": "execute_result"
    }
   ],
   "source": [
    "a = lambda x: x ** 3\n",
    "list(map(lambda x:x**3, [1,2,3,4,5,6]))\n",
    "list(filter(lambda x:(x % 2 !=0), [1,2,3,4,5,6]))"
   ]
  },
  {
   "cell_type": "code",
   "execution_count": 48,
   "metadata": {},
   "outputs": [
    {
     "name": "stdout",
     "output_type": "stream",
     "text": [
      "[13, 3, 8, 12, 15, 18, 10, 13, 9, 23]\n",
      "[13, 3, 8, 12, 10, 13, 9]\n"
     ]
    }
   ],
   "source": [
    "from random import randint\n",
    "\n",
    "\n",
    "internal1 = [randint(0,25) for i in range(10)]\n",
    "internal2 = [randint(0,25) for i in range(10)]\n",
    "internal3 = [randint(0,25) for i in range(10)]\n",
    "\n",
    "average = list(map(lambda x,y,z: (x+y+z)//3, internal1,internal2,internal3))\n",
    "#averageInternal\n",
    "\n",
    "failedmarks  = list(filter(lambda x: x<15, average))\n",
    "print(average)\n",
    "print(failedmarks)"
   ]
  },
  {
   "cell_type": "code",
   "execution_count": null,
   "metadata": {},
   "outputs": [],
   "source": []
  },
  {
   "cell_type": "markdown",
   "metadata": {},
   "source": [
    "### Applying Functional programming to the Marks Analysis Application"
   ]
  },
  {
   "cell_type": "code",
   "execution_count": 1,
   "metadata": {},
   "outputs": [],
   "source": [
    "# Generate a mrks data \n",
    "from random import randint\n",
    "\n",
    "def generateMarks(n, lb, ub):\n",
    "    filename = 'Data files/marks.txt'\n",
    "    with open(filename,'w') as f:\n",
    "        for i in range(n):\n",
    "            marks = randint(lb,ub)\n",
    "            f.write(str(marks)+'\\n')\n",
    "    return\n",
    "\n",
    "generateMarks(50, 0, 100)\n",
    "\n",
    "                    \n",
    "        "
   ]
  },
  {
   "cell_type": "code",
   "execution_count": 27,
   "metadata": {},
   "outputs": [
    {
     "data": {
      "text/plain": [
       "49"
      ]
     },
     "execution_count": 27,
     "metadata": {},
     "output_type": "execute_result"
    }
   ],
   "source": [
    "# Marks Analysis\n",
    "# Class Average, % of passed, Failed, Distinction\n",
    "# Frequency of Highest & Lowest Mark\n",
    "\n",
    "def readMarksList(filepath):\n",
    "    with open(filepath,'r') as f:\n",
    "        filedata = f.read().split()\n",
    "    return list(map(int,filedata))\n",
    "    \n",
    "def classAverage(filepath):\n",
    "    markslist = readMarksList(filepath)\n",
    "    return sum(markslist)//len(markslist)\n",
    "filepath = 'Data files/marks.txt'    \n",
    "classAverage(filepath)  \n"
   ]
  },
  {
   "cell_type": "code",
   "execution_count": 28,
   "metadata": {},
   "outputs": [
    {
     "data": {
      "text/plain": [
       "42.0"
      ]
     },
     "execution_count": 28,
     "metadata": {},
     "output_type": "execute_result"
    }
   ],
   "source": [
    "def failed(filepath):\n",
    "    markslist = readMarksList(filepath)\n",
    "    failedCount = len(list(filter(lambda mark: mark<40, markslist)))\n",
    "    return (failedCount/len(markslist))*100\n",
    "failed(filepath)"
   ]
  },
  {
   "cell_type": "code",
   "execution_count": 32,
   "metadata": {},
   "outputs": [
    {
     "data": {
      "text/plain": [
       "26.0"
      ]
     },
     "execution_count": 32,
     "metadata": {},
     "output_type": "execute_result"
    }
   ],
   "source": [
    "def distinction(filepath):\n",
    "    markslist = readMarksList(filepath)\n",
    "    distinctionCount = len(list(filter(lambda mark: mark>70,markslist)))\n",
    "    return (distinctionCount/len(markslist))*100\n",
    "distinction(filepath)"
   ]
  },
  {
   "cell_type": "code",
   "execution_count": 35,
   "metadata": {},
   "outputs": [
    {
     "data": {
      "text/plain": [
       "[1]"
      ]
     },
     "execution_count": 35,
     "metadata": {},
     "output_type": "execute_result"
    }
   ],
   "source": [
    "def highestMarkFrequency(filepath):\n",
    "    markslist = readMarksList(filepath)\n",
    "    return [markslist.count(max(markslist))]\n",
    "highestMarkFrequency(filepath)"
   ]
  },
  {
   "cell_type": "code",
   "execution_count": 36,
   "metadata": {},
   "outputs": [
    {
     "data": {
      "text/plain": [
       "[1]"
      ]
     },
     "execution_count": 36,
     "metadata": {},
     "output_type": "execute_result"
    }
   ],
   "source": [
    "def lowestMarkFrequency(filepath):\n",
    "    markslist = readMarksList(filepath)\n",
    "    return [markslist.count(max(markslist))]\n",
    "lowestMarkFrequency(filepath)"
   ]
  },
  {
   "cell_type": "markdown",
   "metadata": {},
   "source": [
    "### Data Encription\n",
    "\n",
    "Key - Mapping of characters with replaced characters\n",
    "0 -> 4\n",
    "1 -> 5\n",
    "2 -> 6\n",
    "3 -> 7 \n",
    "4 -> 8\n",
    "5 -> 9\n",
    "6 -> 0\n",
    "7 -> 1\n",
    "8 -> 2\n",
    "9 -> 3"
   ]
  },
  {
   "cell_type": "code",
   "execution_count": 25,
   "metadata": {},
   "outputs": [],
   "source": [
    "## Function to generate key for encryption\n",
    "\n",
    "keypath = 'Data files/key.txt'\n",
    "def generateKey(keypath):\n",
    "    with open(keypath,'w') as f:\n",
    "        for i in range(10):\n",
    "            if i < 6:\n",
    "                f.write(str(i)+ ' ' + str(i+4)+'\\n')\n",
    "            else:\n",
    "                f.write(str(i)+ ' ' + str(i-6)+'\\n')\n",
    "    return\n",
    "\n",
    "generateKey(keypath)"
   ]
  },
  {
   "cell_type": "code",
   "execution_count": 16,
   "metadata": {},
   "outputs": [
    {
     "name": "stdout",
     "output_type": "stream",
     "text": [
      "{'0': '4', '1': '5', '2': '6', '3': '7', '4': '8', '5': '9', '6': '0', '7': '1', '8': '2', '9': '3'}\n"
     ]
    }
   ],
   "source": [
    "## Function to encrypt a data file\n",
    "keyfile = 'Data files/key.txt'\n",
    "\n",
    "def dictionaryKeyFile(keyfile):\n",
    "    key = {}\n",
    "    with open(keyfile, 'r') as f:\n",
    "        for line in f:\n",
    "            line = line.split()\n",
    "            key[line[0]] = line[1]\n",
    "    return key\n",
    "\n",
    "\n",
    "\n",
    "def encryptMarksData(datafile, keyfile):\n",
    "    #Construct a dictionary for key data\n",
    "    key = dictionaryKeyFile(keyfile)\n",
    "    with open(datafile,'r') as f:\n",
    "        filedata = f.read().split('\\n')\n",
    "    with open('Data files/encryptedMarks.txt','w') as f:\n",
    "              for mark in filedata:\n",
    "                line =''\n",
    "                for n in mark:\n",
    "                    line += key[n]\n",
    "                f.write(line+'\\n')\n",
    "    return\n",
    "              \n",
    "datafile = 'Data files/marks.txt'\n",
    "print(dictionaryKeyFile(keyfile))\n",
    "encryptMarksData(datafile, keyfile)\n",
    "    "
   ]
  },
  {
   "cell_type": "code",
   "execution_count": 19,
   "metadata": {},
   "outputs": [],
   "source": [
    "keyfile = 'Data files/key1.txt'\n",
    "\n",
    "def dictionaryKeyFile1(keyfile):\n",
    "    key1 = {}\n",
    "    with open(keyfile, 'r') as f:\n",
    "        for line in f:\n",
    "            line = line.split()\n",
    "            key1[line[0]] = line[1]\n",
    "    return key1\n",
    "dictionaryKeyFile1(keyfile)\n",
    "\n",
    "def decriptMarksData(datafile, keyfile):\n",
    "    key1 = dictionaryKeyFile1(keyfile)\n",
    "    with open(datafile,'r') as f:\n",
    "        filedata = f.read().split('\\n')\n",
    "    with open('Data files/d.txt','w') as f:\n",
    "        for mark in filedata:\n",
    "            line =''\n",
    "            for n in mark:\n",
    "                line +=key1[n]\n",
    "            f.write(line+'\\n')\n",
    "    return\n",
    "    \n",
    "datafile = 'Data files/encryptedMarks.txt'\n",
    "decriptMarksData(datafile,keyfile)"
   ]
  },
  {
   "cell_type": "code",
   "execution_count": 17,
   "metadata": {},
   "outputs": [],
   "source": [
    "def decriptMarksData(encrypedfile, keyfile):\n",
    "    key = dictionaryKeyFile(keyfile)\n",
    "    newkey = {}\n",
    "    for key, value in key.items():\n",
    "        newkey[value] = key\n",
    "    with open(encryptedfile,'r') as f:\n",
    "        encrypteddata = f.read().split('\\n')\n",
    "    with open('Data files/decript.txt','w') as f:\n",
    "        for encryptedmark in encrypteddata:\n",
    "            line =''\n",
    "            for n in encryptedmark:\n",
    "                line +=newkey[n]\n",
    "            f.write(line+'\\n')\n",
    "    return\n",
    "    \n",
    "encryptedfile = 'Data files/encryptedMarks.txt'\n",
    "decriptMarksData(encryptedfile,keyfile)"
   ]
  },
  {
   "cell_type": "code",
   "execution_count": 21,
   "metadata": {},
   "outputs": [
    {
     "data": {
      "text/plain": [
       "{'0', '1', '2', '3', '4', '5', '6', '7', '8', '9'}"
      ]
     },
     "execution_count": 21,
     "metadata": {},
     "output_type": "execute_result"
    }
   ],
   "source": [
    "## Comprehensions\n",
    "keyfile = 'Data files/key.txt'\n",
    "key = dictionaryKeyFile(keyfile)\n",
    "\n",
    "evenkeys = {item for item in key}\n",
    "evenkeys\n"
   ]
  },
  {
   "cell_type": "code",
   "execution_count": null,
   "metadata": {},
   "outputs": [],
   "source": []
  }
 ],
 "metadata": {
  "kernelspec": {
   "display_name": "Python 3",
   "language": "python",
   "name": "python3"
  },
  "language_info": {
   "codemirror_mode": {
    "name": "ipython",
    "version": 3
   },
   "file_extension": ".py",
   "mimetype": "text/x-python",
   "name": "python",
   "nbconvert_exporter": "python",
   "pygments_lexer": "ipython3",
   "version": "3.7.3"
  }
 },
 "nbformat": 4,
 "nbformat_minor": 2
}
