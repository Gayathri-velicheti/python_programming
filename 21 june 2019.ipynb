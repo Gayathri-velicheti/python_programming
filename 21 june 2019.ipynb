{
 "cells": [
  {
   "cell_type": "code",
   "execution_count": 8,
   "metadata": {
    "scrolled": true
   },
   "outputs": [
    {
     "name": "stdout",
     "output_type": "stream",
     "text": [
      "name2 added to contacts\n"
     ]
    }
   ],
   "source": [
    "from Packages import validators\n",
    "\n",
    "def addContact(name, phone, email):\n",
    "    #store data as name ,phone, email in the contact\n",
    "    filename = 'Packages\\contacts.txt'\n",
    "    if not checkContactExists(name):\n",
    "        if validators.phoneNumberValidator(phone) and validators.emailValidator(email):\n",
    "            with open(filename,'a') as f:\n",
    "                line = name+','+str(phone)+','+email+'\\n'\n",
    "                f.write(line)\n",
    "            print(name,'added to contacts')\n",
    "        else:\n",
    "            print('Invalid phone number or email')\n",
    "            return\n",
    "    else:\n",
    "        print(name,'already exists')\n",
    "    return\n",
    "\n",
    "import re\n",
    "def checkContactExists(name): \n",
    "    filename = 'Packages\\contacts.txt'\n",
    "    with open (filename,'r') as f:\n",
    "        filedata = f.read()\n",
    "        pattern = name+','\n",
    "    return re.search(pattern,filedata)\n",
    "\n",
    "addContact('name2',9988776644,'name2_43@gmail.com')"
   ]
  },
  {
   "cell_type": "code",
   "execution_count": 10,
   "metadata": {},
   "outputs": [
    {
     "data": {
      "text/plain": [
       "'name2,9988776644,name2_43@gmail.com\\n'"
      ]
     },
     "execution_count": 10,
     "metadata": {},
     "output_type": "execute_result"
    }
   ],
   "source": [
    "filename = 'Packages\\contacts.txt'\n",
    "def csvToList(contacts):\n",
    "    li = []\n",
    "    with open(filename,'r') as f:\n",
    "        for line in f:\n",
    "            li.append(line.split(','))\n",
    "    return li\n",
    "\n",
    "def listToFile(li):\n",
    "    s = ''\n",
    "    for i in li:\n",
    "        s += ','.join(i)\n",
    "    return s\n",
    "\n",
    "li = csvToList(filename)\n",
    "listToFile(li)     \n",
    "    "
   ]
  },
  {
   "cell_type": "code",
   "execution_count": null,
   "metadata": {},
   "outputs": [],
   "source": []
  }
 ],
 "metadata": {
  "kernelspec": {
   "display_name": "Python 3",
   "language": "python",
   "name": "python3"
  },
  "language_info": {
   "codemirror_mode": {
    "name": "ipython",
    "version": 3
   },
   "file_extension": ".py",
   "mimetype": "text/x-python",
   "name": "python",
   "nbconvert_exporter": "python",
   "pygments_lexer": "ipython3",
   "version": "3.7.3"
  }
 },
 "nbformat": 4,
 "nbformat_minor": 2
}
