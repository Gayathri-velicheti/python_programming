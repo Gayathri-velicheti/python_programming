{
 "cells": [
  {
   "cell_type": "code",
   "execution_count": 2,
   "metadata": {},
   "outputs": [
    {
     "name": "stdout",
     "output_type": "stream",
     "text": [
      "0 0 10 0 0 0 0 0 0 "
     ]
    }
   ],
   "source": [
    "# s =123abc456def111\n",
    "# 0 4 1 1 1 1 1 0 0 0\n",
    "# count(1) --> 1 4 1 1 1 1 1 4 4 4\n",
    "\n",
    "# s = c\n",
    "# 0 0 0 0 0 0 0 0 0 0 \n",
    "\n",
    "\n",
    "# s = 1234567890\n",
    "# 1 1 1 1 1 1 1 1 1 1\n",
    "\n",
    "\n",
    "def uniqueData(allnumbers):\n",
    "    unique = []\n",
    "    for n in allnumbers:\n",
    "        if n not in unique:\n",
    "            unique.append(n)\n",
    "        return unique\n",
    "    \n",
    "def digtFrequency1(s):\n",
    "    allnumbers = []\n",
    "    for i in s:\n",
    "        if i.isdigit():\n",
    "            allnumbers.append(i)\n",
    "    unique = uniqueData(allnumbers)\n",
    "    for i in range(0,10):\n",
    "        if str(i) not in unique:\n",
    "            print(0, end=' ')\n",
    "        else:\n",
    "            count = allnumbers.count(str(i))\n",
    "            print(count,end='')\n",
    "digtFrequency1('213abc456def111')\n",
    "    "
   ]
  },
  {
   "cell_type": "code",
   "execution_count": 5,
   "metadata": {},
   "outputs": [],
   "source": [
    "def digitFrequency2(s):\n",
    "    for i in range(0,10):\n",
    "        count = s.count(str(i))"
   ]
  },
  {
   "cell_type": "code",
   "execution_count": 1,
   "metadata": {},
   "outputs": [
    {
     "data": {
      "text/plain": [
       "2"
      ]
     },
     "execution_count": 1,
     "metadata": {},
     "output_type": "execute_result"
    }
   ],
   "source": [
    "## Function to check if two stings are anagrams are not\n",
    "## {a:1, b:1, c:1}{c:1.a:1,b:1}\n",
    "## abc cba --> True\n",
    "## aabbcc ccbbaaa --> False\n",
    "## a\n",
    "\n",
    "def checkAnagrams(s1,s2):\n",
    "    if len(s1) != len(s2):\n",
    "        return False\n",
    "    if sorted(s1) == sorted(s2):\n",
    "        return True\n",
    "    return False\n",
    "\n",
    "def checkDeletionsAnagrams(s1, s2):\n",
    "    uncommon = []\n",
    "    for i in s1:\n",
    "        if i not in s2:\n",
    "            uncommon.append(i)\n",
    "    for i in s2:\n",
    "        if i not in s1:\n",
    "            uncommon.append(i)\n",
    "    count = len(uncommon)\n",
    "    freq1 = {}\n",
    "    freq2 = {}\n",
    "    uniq1 = []\n",
    "    uniq2 = []\n",
    "    # Frequency \n",
    "    for i in s1:\n",
    "        if i not in uncommon and i not in uniq1:\n",
    "            freq1[i] = s1.count(i)\n",
    "            uniq1.append(i)\n",
    "    for i in s2:\n",
    "        if i not in uncommon and i not in uniq2:\n",
    "            freq2[i] = s2.count(i)\n",
    "            uniq2.append(i)\n",
    "    for key in freq1.keys():\n",
    "        count += abs(freq1[key] - freq2[key])\n",
    "    return count\n",
    "\n",
    "checkDeletionsAnagrams('cbaaa','abc')\n",
    "    "
   ]
  },
  {
   "cell_type": "code",
   "execution_count": 2,
   "metadata": {},
   "outputs": [
    {
     "data": {
      "text/plain": [
       "1"
      ]
     },
     "execution_count": 2,
     "metadata": {},
     "output_type": "execute_result"
    }
   ],
   "source": [
    "# {a:4, g:9 ,1:6 ,p:213}\n",
    "# [4,6,6,9,213]\n",
    "# [a,c,g,i,p]\n",
    " #k = 3\n",
    "\n",
    "def KLargestFrequency(s, k):\n",
    "    #Construct the frequency dictionary\n",
    "    #unique = []\n",
    "    freq = {}\n",
    "    for i in s:\n",
    "        if i not in freq.keys():\n",
    "            freq[1] = s.count(i)\n",
    "    values = sorted(freq.values() ,reverse=True)\n",
    "    uniqueValues = list(set(values))\n",
    "    uniqueValues = sorted(uniqueValues, reverse=True)\n",
    "    if k <= len(uniqueValues):\n",
    "        kvalue = uniqueValues[k-1]\n",
    "    else:\n",
    "        return -1\n",
    "    kvalue = uniqueValues[k-1]\n",
    "    li = []\n",
    "    for item in freq.items():\n",
    "        if item[1] == kvalue:\n",
    "            li.append(item[0])\n",
    "    return min(li)\n",
    "\n",
    "KLargestFrequency('aaabbcd',1)\n",
    "        "
   ]
  },
  {
   "cell_type": "code",
   "execution_count": null,
   "metadata": {},
   "outputs": [],
   "source": []
  },
  {
   "cell_type": "code",
   "execution_count": null,
   "metadata": {},
   "outputs": [],
   "source": []
  },
  {
   "cell_type": "code",
   "execution_count": null,
   "metadata": {},
   "outputs": [],
   "source": []
  },
  {
   "cell_type": "code",
   "execution_count": null,
   "metadata": {},
   "outputs": [],
   "source": []
  },
  {
   "cell_type": "code",
   "execution_count": null,
   "metadata": {},
   "outputs": [],
   "source": []
  },
  {
   "cell_type": "code",
   "execution_count": null,
   "metadata": {},
   "outputs": [],
   "source": []
  },
  {
   "cell_type": "code",
   "execution_count": null,
   "metadata": {},
   "outputs": [],
   "source": []
  },
  {
   "cell_type": "code",
   "execution_count": null,
   "metadata": {},
   "outputs": [],
   "source": []
  },
  {
   "cell_type": "code",
   "execution_count": null,
   "metadata": {},
   "outputs": [],
   "source": []
  },
  {
   "cell_type": "code",
   "execution_count": null,
   "metadata": {},
   "outputs": [],
   "source": []
  },
  {
   "cell_type": "code",
   "execution_count": null,
   "metadata": {},
   "outputs": [],
   "source": []
  }
 ],
 "metadata": {
  "kernelspec": {
   "display_name": "Python 3",
   "language": "python",
   "name": "python3"
  },
  "language_info": {
   "codemirror_mode": {
    "name": "ipython",
    "version": 3
   },
   "file_extension": ".py",
   "mimetype": "text/x-python",
   "name": "python",
   "nbconvert_exporter": "python",
   "pygments_lexer": "ipython3",
   "version": "3.7.3"
  }
 },
 "nbformat": 4,
 "nbformat_minor": 2
}
