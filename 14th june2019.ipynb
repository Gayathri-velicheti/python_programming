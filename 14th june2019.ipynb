{
 "cells": [
  {
   "cell_type": "markdown",
   "metadata": {},
   "source": [
    "### Problem Solving and Programming In Python-Day 4\n",
    "\n",
    "### Date -- 14th june2019\n",
    "\n",
    "### Day Objectives\n",
    "\n",
    "* Python Data Structures\n",
    "    - Lists\n",
    "    - Tupples\n",
    "    - Dictionaries"
   ]
  },
  {
   "cell_type": "code",
   "execution_count": null,
   "metadata": {},
   "outputs": [],
   "source": []
  },
  {
   "cell_type": "markdown",
   "metadata": {},
   "source": [
    "### Python Data Structures\n",
    "\n",
    "### Lists"
   ]
  },
  {
   "cell_type": "code",
   "execution_count": 40,
   "metadata": {},
   "outputs": [
    {
     "data": {
      "text/plain": [
       "300.0"
      ]
     },
     "execution_count": 40,
     "metadata": {},
     "output_type": "execute_result"
    }
   ],
   "source": [
    "li = [123,234,345]\n",
    "\n",
    "li #Acessing the entire list\n",
    "li[1] #Acessing an element with the index\n",
    "li[1:] # Acessing elements from second elements\n",
    "\n",
    "li = li[::-1] # Reversing list elements and reasign\n",
    "li\n",
    "li = li[::-1]\n",
    "li\n",
    "#li = li[::2] #Acessing even index elements\n",
    "\n",
    "li[1::2]\n",
    "\n",
    "#List can be accessed,manipulated in two\n",
    "   # Direct Referencing- [index]\n",
    "   # Indirect Referencing - through functions\n",
    "\n",
    "li.append(456)# Adding an elemnt to end of the list\n",
    "li\n",
    "li.insert(1,222)# Adding an element at a particular position where you mentioned the index\n",
    "li\n",
    "\n",
    "li.sort()#Sort elements in asending order\n",
    "li\n",
    "\n",
    "li.pop() # Remove the last element in a list\n",
    "\n",
    "li.pop(1)# Remove an element at a particular index\n",
    "li2 = [222,333,444]\n",
    "\n",
    "li.extend(li2)#Merge list 2 to list 1\n",
    "li\n",
    "sum(li) #Sum of all elements in a list\n",
    "max(li) #Maximum element in a list\n",
    "len(li) #number of elements in a list\n",
    "\n",
    "#Avh of list elements\n",
    "sum(li)/len(li)\n",
    "\n",
    "# Average of all alternate elements\n",
    "sum(li[1::2])/len(li[1::2])"
   ]
  },
  {
   "cell_type": "code",
   "execution_count": 53,
   "metadata": {},
   "outputs": [
    {
     "data": {
      "text/plain": [
       "31"
      ]
     },
     "execution_count": 53,
     "metadata": {},
     "output_type": "execute_result"
    }
   ],
   "source": [
    "#Function to identify the second largest element in a list\n",
    "li1 = [11, 25, 2, 41, 31, 10, 8, 6, 4] \n",
    "def secondLargest(li1):\n",
    "    length = len(li1)\n",
    "    li1.sort()\n",
    "    return li1[length-2]\n",
    "secondLargest(li1)\n",
    "\n",
    "\n"
   ]
  },
  {
   "cell_type": "code",
   "execution_count": 55,
   "metadata": {},
   "outputs": [
    {
     "name": "stdout",
     "output_type": "stream",
     "text": [
      "enter a n value1\n"
     ]
    },
    {
     "data": {
      "text/plain": [
       "41"
      ]
     },
     "execution_count": 55,
     "metadata": {},
     "output_type": "execute_result"
    }
   ],
   "source": [
    "#Function to identify the second largest element in a list\n",
    "li1 = [11, 25, 2, 41, 31, 10, 8, 6, 4]\n",
    "n = int(input(\"enter a n value\"))\n",
    "def secondLargest(li1,n):\n",
    "    length = len(li1)\n",
    "    li1.sort()\n",
    "    return li1[length-n]\n",
    "secondLargest(li1,n)"
   ]
  },
  {
   "cell_type": "code",
   "execution_count": 70,
   "metadata": {},
   "outputs": [
    {
     "data": {
      "text/plain": [
       "5"
      ]
     },
     "execution_count": 70,
     "metadata": {},
     "output_type": "execute_result"
    }
   ],
   "source": [
    "# Function to serch for data in a list\n",
    "#Search for the key in the list and return the input -1\n",
    "def linearSearch(li,key):\n",
    "    for index in range(0, len(li)):\n",
    "        if li[index] == key:\n",
    "            return index\n",
    "    return -1\n",
    "\n",
    "def linearSearch2(li,key):\n",
    "    for element in li:\n",
    "        if element == key:\n",
    "            return li.index(element)\n",
    "    return -1\n",
    "\n",
    "def linearSearch3(li,key):\n",
    "    if key in li:\n",
    "        return li.index(key)\n",
    "    return -1\n",
    "\n",
    "\n",
    "linearSearch(li,234)\n",
    "linearSearch2(li,222)\n",
    "linearSearch3(li,444)\n",
    "        "
   ]
  },
  {
   "cell_type": "code",
   "execution_count": 78,
   "metadata": {},
   "outputs": [
    {
     "name": "stdout",
     "output_type": "stream",
     "text": [
      "enter a valuemm\n"
     ]
    },
    {
     "data": {
      "text/plain": [
       "0"
      ]
     },
     "execution_count": 78,
     "metadata": {},
     "output_type": "execute_result"
    }
   ],
   "source": [
    "# Function to count the occurrances of a character  in a given string\n",
    "# \"Python Programming\" , m -->2\n",
    "\n",
    "def count(string,c):\n",
    "    count = 0\n",
    "    for ch in string:\n",
    "        if ch == c:\n",
    "            count += 1\n",
    "    return count\n",
    "\n",
    "def count2(s, c):\n",
    "    return s.count(c)\n",
    "count2('programming','m')\n",
    "\n",
    "\n",
    "\n",
    "# Function to find the occurrances of a substring\n",
    "n = input(\"enter a value\")\n",
    "def count3(s, c):\n",
    "    return s.count(c)\n",
    "count3('programming','c')"
   ]
  },
  {
   "cell_type": "code",
   "execution_count": 1,
   "metadata": {},
   "outputs": [
    {
     "name": "stdout",
     "output_type": "stream",
     "text": [
      "4\n",
      "30\n"
     ]
    }
   ],
   "source": [
    "# Write a program to sum of squares of anumber in a given range\n",
    "n = int(input())\n",
    "sum = 0\n",
    "for i in range(1, n+1):\n",
    "    if (i <= n):\n",
    "        i = i**2\n",
    "        sum = sum + i\n",
    "print(sum)"
   ]
  },
  {
   "cell_type": "code",
   "execution_count": 8,
   "metadata": {},
   "outputs": [
    {
     "name": "stdout",
     "output_type": "stream",
     "text": [
      "1\n"
     ]
    }
   ],
   "source": [
    "li = [-1,-2,2,3,1]\n",
    "\n",
    "li.sort()\n",
    "pl = []\n",
    "\n",
    "for i in li:\n",
    "    pl.append(abs(i))\n",
    "pl.sort()\n",
    "if pl[0] in li:\n",
    "    print(pl[0])\n",
    "else:\n",
    "    print(-pl[0])"
   ]
  },
  {
   "cell_type": "code",
   "execution_count": 23,
   "metadata": {},
   "outputs": [
    {
     "name": "stdout",
     "output_type": "stream",
     "text": [
      "[-100, -3, -2, -1, 1, 2]\n",
      "[1, 1, 2, 2, 3, 100]\n",
      "2\n"
     ]
    }
   ],
   "source": [
    "li = [-1,-2,2,-3,1,-100]\n",
    "\n",
    "li.sort()\n",
    "pl = []\n",
    "\n",
    "for i in li:\n",
    "    pl.append(abs(i))\n",
    "pl.sort()\n",
    "print(li)\n",
    "print(pl)\n",
    "if pl[-1] in li:\n",
    "    print(pl[-1])\n",
    "else:\n",
    "    print(li[-1])"
   ]
  },
  {
   "cell_type": "markdown",
   "metadata": {},
   "source": [
    "### Problem-3\n",
    "You are given three numbers a,b,c.\n",
    "Write a program to find the largest number which is less than or equal to c and leaves remainder b when divided by a"
   ]
  },
  {
   "cell_type": "code",
   "execution_count": 26,
   "metadata": {},
   "outputs": [
    {
     "data": {
      "text/plain": [
       "8"
      ]
     },
     "execution_count": 26,
     "metadata": {},
     "output_type": "execute_result"
    }
   ],
   "source": [
    "def cal(a,b,c):\n",
    "    for i in range(c,a-1,-1):\n",
    "        if i % a == b:\n",
    "            return i\n",
    "        return -1\n",
    "cal(3,2,8)"
   ]
  },
  {
   "cell_type": "code",
   "execution_count": 28,
   "metadata": {},
   "outputs": [
    {
     "name": "stdout",
     "output_type": "stream",
     "text": [
      "wow\n",
      "Yes\n"
     ]
    }
   ],
   "source": [
    "s = input()\n",
    "def palindrome(s):\n",
    "    rev = s[::-1]\n",
    "    if (s == rev):\n",
    "        print(\"Yes\")\n",
    "    else:\n",
    "        print(\"No\")\n",
    "palindrome(s)"
   ]
  },
  {
   "cell_type": "code",
   "execution_count": null,
   "metadata": {},
   "outputs": [],
   "source": []
  }
 ],
 "metadata": {
  "kernelspec": {
   "display_name": "Python 3",
   "language": "python",
   "name": "python3"
  },
  "language_info": {
   "codemirror_mode": {
    "name": "ipython",
    "version": 3
   },
   "file_extension": ".py",
   "mimetype": "text/x-python",
   "name": "python",
   "nbconvert_exporter": "python",
   "pygments_lexer": "ipython3",
   "version": "3.7.3"
  }
 },
 "nbformat": 4,
 "nbformat_minor": 2
}
