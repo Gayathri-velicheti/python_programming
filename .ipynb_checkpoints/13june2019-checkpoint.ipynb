{
 "cells": [
  {
   "cell_type": "code",
   "execution_count": 6,
   "metadata": {},
   "outputs": [],
   "source": [
    "# Funtion to print reverse of n natural numbers in a given range \n",
    "\n",
    "def divisible4(start,end):\n",
    "    for value in range(end,start,4):\n",
    "        print(value,end=\" \")\n",
    "    return\n",
    "divisible4(500,600)"
   ]
  },
  {
   "cell_type": "code",
   "execution_count": 3,
   "metadata": {},
   "outputs": [
    {
     "name": "stdout",
     "output_type": "stream",
     "text": [
      "10 9 8 7 6 5 4 3 2 1 "
     ]
    }
   ],
   "source": [
    "# Funtion to print reverse of n natural numbers in a given range \n",
    "\n",
    "def reverseRange(start,end):\n",
    "    for value in range(end,start-1,-1):\n",
    "        print(value,end=\" \")\n",
    "    return\n",
    "reverseRange(1,10)"
   ]
  },
  {
   "cell_type": "code",
   "execution_count": null,
   "metadata": {},
   "outputs": [],
   "source": []
  }
 ],
 "metadata": {
  "kernelspec": {
   "display_name": "Python 3",
   "language": "python",
   "name": "python3"
  },
  "language_info": {
   "codemirror_mode": {
    "name": "ipython",
    "version": 3
   },
   "file_extension": ".py",
   "mimetype": "text/x-python",
   "name": "python",
   "nbconvert_exporter": "python",
   "pygments_lexer": "ipython3",
   "version": "3.7.3"
  }
 },
 "nbformat": 4,
 "nbformat_minor": 2
}
