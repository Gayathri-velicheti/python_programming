{
 "cells": [
  {
   "cell_type": "code",
   "execution_count": 1,
   "metadata": {},
   "outputs": [
    {
     "name": "stdout",
     "output_type": "stream",
     "text": [
      "98\n"
     ]
    }
   ],
   "source": [
    "S = \"abc cab\"\n",
    "S.split()\n",
    "s1 = S[0]\n",
    "s2 = S[1]\n",
    "sm1 = 0\n",
    "for ch in s1:\n",
    "    sm1 += ord(ch)\n",
    "sm2 = 0\n",
    "for ch in s2:\n",
    "    sm2 += ord(ch)\n",
    "print(sm2)"
   ]
  },
  {
   "cell_type": "code",
   "execution_count": 2,
   "metadata": {},
   "outputs": [
    {
     "name": "stdout",
     "output_type": "stream",
     "text": [
      "abeD\n",
      "ABEd\n"
     ]
    }
   ],
   "source": [
    "# Toggle string without functions\n",
    "\n",
    "def toggle():\n",
    "    s = input()\n",
    "    new=\"\"\n",
    "    capitals = ['A','B','C','D','E','F']\n",
    "    small = ['a','b','c','d','e','f']\n",
    "    for i in s:\n",
    "        if i in capitals:\n",
    "            n=capitals.index(i)\n",
    "            new=new+small[n]\n",
    "        if i in small:\n",
    "            m=small.index(i)\n",
    "            new=new+capitals[m]\n",
    "    print(new)\n",
    "toggle()"
   ]
  },
  {
   "cell_type": "code",
   "execution_count": null,
   "metadata": {},
   "outputs": [],
   "source": []
  },
  {
   "cell_type": "code",
   "execution_count": null,
   "metadata": {},
   "outputs": [],
   "source": []
  },
  {
   "cell_type": "code",
   "execution_count": null,
   "metadata": {},
   "outputs": [],
   "source": []
  },
  {
   "cell_type": "markdown",
   "metadata": {},
   "source": [
    "#### Duration \n",
    "Input:start time,endtime(hh,mm)\n",
    "    hh - {00,23} - {00 00, 23 59}\n",
    "    mm - {00.59}\n",
    "    hh mm - {00 00, 23 59}\n",
    "    \n",
    "Output: time difference in hh mm"
   ]
  },
  {
   "cell_type": "code",
   "execution_count": 4,
   "metadata": {},
   "outputs": [
    {
     "name": "stdout",
     "output_type": "stream",
     "text": [
      "5 58\n"
     ]
    }
   ],
   "source": [
    "#Convert the \n",
    "s = \"2 42 8 40\"\n",
    "\n",
    "def minuteDifference(s):\n",
    "    s = s.split()\n",
    "    sh = int(s[0])\n",
    "    sm = int(s[1])\n",
    "    eh = int(s[2])\n",
    "    em = int(s[3])\n",
    "    startminutes = (sh * 60)+ sm\n",
    "    endminutes = (eh * 60)+ em\n",
    "    return endminutes-startminutes\n",
    "def outputTimeFormat(minutes):\n",
    "    hh = minutes//60\n",
    "    mm = minutes%60\n",
    "    print(hh,mm)\n",
    "    return\n",
    "minutes= minuteDifference(s)\n",
    "outputTimeFormat(minutes)"
   ]
  },
  {
   "cell_type": "code",
   "execution_count": null,
   "metadata": {},
   "outputs": [],
   "source": [
    "### PlayWith Numbers\n",
    "\n"
   ]
  },
  {
   "cell_type": "code",
   "execution_count": null,
   "metadata": {},
   "outputs": [],
   "source": []
  }
 ],
 "metadata": {
  "kernelspec": {
   "display_name": "Python 3",
   "language": "python",
   "name": "python3"
  },
  "language_info": {
   "codemirror_mode": {
    "name": "ipython",
    "version": 3
   },
   "file_extension": ".py",
   "mimetype": "text/x-python",
   "name": "python",
   "nbconvert_exporter": "python",
   "pygments_lexer": "ipython3",
   "version": "3.7.3"
  }
 },
 "nbformat": 4,
 "nbformat_minor": 2
}
