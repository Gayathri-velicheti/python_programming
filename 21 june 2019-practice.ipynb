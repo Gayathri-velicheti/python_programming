{
 "cells": [
  {
   "cell_type": "code",
   "execution_count": 5,
   "metadata": {},
   "outputs": [
    {
     "name": "stdout",
     "output_type": "stream",
     "text": [
      "2\n",
      "g\n",
      "12345\n",
      "gaya3@gmail.com\n",
      "n\n",
      "12345644\n",
      "nik@gmail.com\n"
     ]
    },
    {
     "data": {
      "text/plain": [
       "{'g': ['12345', 'gaya3@gmail.com'], 'n': ['12345644', 'nik@gmail.com']}"
      ]
     },
     "execution_count": 5,
     "metadata": {},
     "output_type": "execute_result"
    }
   ],
   "source": [
    "# Contact application\n",
    "\n",
    "contact = {}#empty dictionary\n",
    "def addContact():\n",
    "    n = int(input())\n",
    "    for record in range(n):\n",
    "        name = input()\n",
    "        mobile = input()\n",
    "        email = input()\n",
    "        contact[name] = [mobile,email]\n",
    "    return contact   \n",
    "addContact()\n",
    "    "
   ]
  },
  {
   "cell_type": "code",
   "execution_count": 6,
   "metadata": {},
   "outputs": [],
   "source": [
    "# Contact application\n",
    "\n",
    "contact = {}#empty dictionary\n",
    "def addContact():\n",
    "    n = int(input())\n",
    "    for record in range(n):\n",
    "        name = input()\n",
    "        mobile = input()\n",
    "        email = input()\n",
    "        contact[name] = [mobile,email]\n",
    "    with open(\"Data files\\contact.txt\",'w') as data:\n",
    "        for i in contact.items():\n",
    "            data.write(i[0]+\",\"+i[1][0]+\",\"+i[1][1]+\"\\n\")\n",
    "    return \"Data successfully added\""
   ]
  },
  {
   "cell_type": "code",
   "execution_count": 7,
   "metadata": {},
   "outputs": [
    {
     "name": "stdout",
     "output_type": "stream",
     "text": [
      "2\n",
      "g\n",
      "1\n",
      "dgfg\n",
      "a\n",
      "342\n",
      "esdfer\n"
     ]
    },
    {
     "data": {
      "text/plain": [
       "'Data successfully added'"
      ]
     },
     "execution_count": 7,
     "metadata": {},
     "output_type": "execute_result"
    }
   ],
   "source": [
    "addContact()"
   ]
  },
  {
   "cell_type": "code",
   "execution_count": 8,
   "metadata": {},
   "outputs": [
    {
     "name": "stdout",
     "output_type": "stream",
     "text": [
      "enter the filenameData files/contact.txt\n",
      "usenameg\n",
      "number9988776655\n",
      "mailidgayathriv410@gmail.com\n"
     ]
    }
   ],
   "source": [
    "def modifyContacts(filename):\n",
    "    updated_data = {}\n",
    "    name = input(\"usename\")\n",
    "    with  open(filename,'r') as f:\n",
    "        for line in f:\n",
    "            line = line.strip().split(',')\n",
    "            if name in line:\n",
    "                mobile = input(\"number\")\n",
    "                email = input(\"mailid\")\n",
    "                line[1] = mobile\n",
    "                line[2] = email\n",
    "                updated_data[line[0]] = [line[1],line[2]]\n",
    "            else:\n",
    "                updated_data[line[0]] = [line[1],line[2]]\n",
    "                continue\n",
    "                \n",
    "    with open(filename,'w') as info:\n",
    "        for user in updated_data.items():\n",
    "            info.write(user[0]+','+user[1][0]+\",\"+user[1][1]+\"\\n\")\n",
    "                           \n",
    "filename = input(\"enter the filename\")\n",
    "modifyContacts(filename)\n"
   ]
  },
  {
   "cell_type": "code",
   "execution_count": null,
   "metadata": {},
   "outputs": [],
   "source": []
  }
 ],
 "metadata": {
  "kernelspec": {
   "display_name": "Python 3",
   "language": "python",
   "name": "python3"
  },
  "language_info": {
   "codemirror_mode": {
    "name": "ipython",
    "version": 3
   },
   "file_extension": ".py",
   "mimetype": "text/x-python",
   "name": "python",
   "nbconvert_exporter": "python",
   "pygments_lexer": "ipython3",
   "version": "3.7.3"
  }
 },
 "nbformat": 4,
 "nbformat_minor": 2
}
