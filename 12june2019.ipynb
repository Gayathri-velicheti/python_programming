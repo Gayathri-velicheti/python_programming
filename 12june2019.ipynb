{
 "cells": [
  {
   "cell_type": "markdown",
   "metadata": {},
   "source": [
    "# Problem Solving and Programming\n",
    "\n",
    "### Date 12 june 2019\n",
    "\n",
    "#### Day Objectives\n",
    "\n",
    "* String slicing\n",
    "* Function in python\n",
    "* Basic Problems realted using the conditional statements using functions\n",
    "* iterations in python\n",
    "* Python Data Structures-List,Tuple,Sets,Dictionaries \n",
    "    - Applying Data Structures to solve problems"
   ]
  },
  {
   "cell_type": "markdown",
   "metadata": {},
   "source": [
    "## String Slicing"
   ]
  },
  {
   "cell_type": "code",
   "execution_count": 42,
   "metadata": {},
   "outputs": [
    {
     "data": {
      "text/plain": [
       "8"
      ]
     },
     "execution_count": 42,
     "metadata": {},
     "output_type": "execute_result"
    }
   ],
   "source": [
    "s1 = \"gayathri\"\n",
    "s1[0] # Accessing the first character in a string\n",
    "s1[1] #Accessing the second character in a string\n",
    "s1[len(s1)-1] # Accessing the last character in a string\n",
    "s1[-1] #Another way of accessing the last character in a string\n",
    "s1[-2] #Accessing the penultimate character in a string\n",
    "s1[0:2] # Accessing the first two characters in a string\n",
    "s1[:-1] # Accessing the last two characters in a string\n",
    "len(s1)"
   ]
  },
  {
   "cell_type": "code",
   "execution_count": 48,
   "metadata": {},
   "outputs": [
    {
     "data": {
      "text/plain": [
       "'ihaa'"
      ]
     },
     "execution_count": 48,
     "metadata": {},
     "output_type": "execute_result"
    }
   ],
   "source": [
    "s1[3:] #Accessing all characters 5th character\n",
    "\n",
    "s1[1:-1] #Acceasing all characters except first and last character\n",
    "\n",
    "s1[len(s1)//2] #Accessing the middle character of the given string\n",
    "s1[-1::-1] #Reverse of a string\n",
    "s1[-1:-3:-1] #Accessing last two characters in reverse order\n",
    "s1[len(s1)//2:len(s1)//2:]#Reverse the middle two characters in an even length string\n",
    "s1[0:len(s1):2] # Accessing alternate characters in a string\n",
    "s1[::-2]# Accessing alternate characters in a string in reverse"
   ]
  },
  {
   "cell_type": "markdown",
   "metadata": {},
   "source": [
    "## Functions"
   ]
  },
  {
   "cell_type": "code",
   "execution_count": 50,
   "metadata": {},
   "outputs": [
    {
     "data": {
      "text/plain": [
       "'irhtayag'"
      ]
     },
     "execution_count": 50,
     "metadata": {},
     "output_type": "execute_result"
    }
   ],
   "source": [
    "# Function to reverse of a string\n",
    "def reverseString(s):\n",
    "    return s[-1::-1]\n",
    "\n",
    "reverseString(\"gayathri\")"
   ]
  },
  {
   "cell_type": "code",
   "execution_count": 54,
   "metadata": {},
   "outputs": [
    {
     "name": "stdout",
     "output_type": "stream",
     "text": [
      "False\n",
      "True\n",
      "False\n",
      "True\n"
     ]
    }
   ],
   "source": [
    "# Function to check if a string is a palindrome\n",
    "def palindrome(s):\n",
    "    if s == s[::-1]:\n",
    "        return True\n",
    "    else:\n",
    "        return False\n",
    "    \n",
    "print(palindrome(\"arjun\"))\n",
    "print(palindrome(\"12321\"))\n",
    "print(palindrome(\"gaya3\"))\n",
    "print(palindrome(\"racecar\"))"
   ]
  },
  {
   "cell_type": "code",
   "execution_count": 63,
   "metadata": {},
   "outputs": [
    {
     "name": "stdout",
     "output_type": "stream",
     "text": [
      "True\n",
      "False\n",
      "False\n",
      "False\n",
      "True\n"
     ]
    }
   ],
   "source": [
    "#Function to check if a given year is a leap year \n",
    "def isLeapYear(year):\n",
    "    if year % 400 == 0 or (year % 100 != 0 and year % 4 == 0):\n",
    "        return True\n",
    "    return False\n",
    "\n",
    "print(isLeapYear(2020))\n",
    "print(isLeapYear(2021))\n",
    "print(isLeapYear(2022))\n",
    "print(isLeapYear(2023))\n",
    "print(isLeapYear(2024))"
   ]
  },
  {
   "cell_type": "code",
   "execution_count": 76,
   "metadata": {},
   "outputs": [
    {
     "name": "stdout",
     "output_type": "stream",
     "text": [
      "enter a number56789\n"
     ]
    },
    {
     "data": {
      "text/plain": [
       "5"
      ]
     },
     "execution_count": 76,
     "metadata": {},
     "output_type": "execute_result"
    }
   ],
   "source": [
    "#Function to count the number of digits in a given number\n",
    "n = int(input(\"enter a number\"))\n",
    "def digit(n):\n",
    "    return len(str(n))\n",
    "digit(n)"
   ]
  },
  {
   "cell_type": "code",
   "execution_count": 74,
   "metadata": {},
   "outputs": [
    {
     "data": {
      "text/plain": [
       "80"
      ]
     },
     "execution_count": 74,
     "metadata": {},
     "output_type": "execute_result"
    }
   ],
   "source": [
    "#Function to identify the greatest of 4 numbers\n",
    "def greatest(a,b,c,d):\n",
    "    if a>b and a>c and a>d:\n",
    "        return a\n",
    "    elif b>c and b>d:\n",
    "        return b\n",
    "    elif c>d:\n",
    "        return c\n",
    "    else:\n",
    "        return d\n",
    "greatest(9,17,80,5)"
   ]
  },
  {
   "cell_type": "code",
   "execution_count": null,
   "metadata": {},
   "outputs": [],
   "source": []
  },
  {
   "cell_type": "markdown",
   "metadata": {},
   "source": [
    "### Iterations\n",
    "* for\n",
    "* while"
   ]
  },
  {
   "cell_type": "code",
   "execution_count": 82,
   "metadata": {},
   "outputs": [
    {
     "name": "stdout",
     "output_type": "stream",
     "text": [
      "enter n value8\n",
      "1,2,3,4,5,6,7,8,"
     ]
    }
   ],
   "source": [
    "#Function to print n natural numbers\n",
    "n = int(input(\"enter n value\"))\n",
    "def nNatural(n):\n",
    "    for i in range(1,n+1):\n",
    "        print(i,end=\",\") \n",
    "    return\n",
    "nNatural(n)"
   ]
  },
  {
   "cell_type": "code",
   "execution_count": 87,
   "metadata": {},
   "outputs": [
    {
     "name": "stdout",
     "output_type": "stream",
     "text": [
      "enter n value7\n"
     ]
    }
   ],
   "source": [
    "#Function to print n natural numbers\n",
    "n = int(input(\"enter n value\"))\n",
    "def nNatural(n):\n",
    "    for i in range( n+1,1):\n",
    "        print(i,end=\",\")\n",
    "    return\n",
    "nNatural(n)"
   ]
  },
  {
   "cell_type": "code",
   "execution_count": 86,
   "metadata": {},
   "outputs": [
    {
     "name": "stdout",
     "output_type": "stream",
     "text": [
      "enter n value100\n",
      "1,2,3,4,5,6,7,8,9,10,11,12,13,14,15,16,17,18,19,20,21,22,23,24,25,26,27,28,29,30,31,32,33,34,35,36,37,38,39,40,41,42,43,44,45,46,47,48,49,50,51,52,53,54,55,56,57,58,59,60,61,62,63,64,65,66,67,68,69,70,71,72,73,74,75,76,77,78,79,80,81,82,83,84,85,86,87,88,89,90,91,92,93,94,95,96,97,98,99,100,"
     ]
    }
   ],
   "source": [
    "#Function to print n natural numbers using while loop\n",
    "n = int(input(\"enter n value\"))\n",
    "def nNatural(n):\n",
    "    i = 1\n",
    "    while i <= n:\n",
    "        print(i,end =\",\")\n",
    "        i = i+1\n",
    "    return\n",
    "nNatural(n)"
   ]
  },
  {
   "cell_type": "code",
   "execution_count": 90,
   "metadata": {},
   "outputs": [
    {
     "name": "stdout",
     "output_type": "stream",
     "text": [
      "enter n value100\n",
      "2,4,6,8,10,12,14,16,18,20,22,24,26,28,30,32,34,36,38,40,42,44,46,48,50,52,54,56,58,60,62,64,66,68,70,72,74,76,78,80,82,84,86,88,90,92,94,96,98,100,"
     ]
    }
   ],
   "source": [
    "#Function to print even numbers in natural numbers\n",
    "n = int(input(\"enter n value\"))\n",
    "def even(n):\n",
    "    for i in range(1,n+1):\n",
    "        if i % 2 == 0:\n",
    "            print(i,end=\",\") \n",
    "    return\n",
    "even(n)"
   ]
  },
  {
   "cell_type": "code",
   "execution_count": 13,
   "metadata": {},
   "outputs": [],
   "source": [
    "# Funtion to print reverse of n natural numbers in a given range \n",
    "\n",
    "def divisible4(start,end):\n",
    "    for value in range(end,start,4):\n",
    "        print(value,end=\" \")\n",
    "    return\n",
    "divisible4(500,600)"
   ]
  },
  {
   "cell_type": "code",
   "execution_count": 14,
   "metadata": {},
   "outputs": [
    {
     "name": "stdout",
     "output_type": "stream",
     "text": [
      "10 9 8 7 6 5 4 3 2 1 "
     ]
    }
   ],
   "source": [
    "# Funtion to print reverse of n natural numbers in a given range \n",
    "\n",
    "def reverseRange(start,end):\n",
    "    for value in range(end,start-1,-1):\n",
    "        print(value,end=\" \")\n",
    "    return\n",
    "reverseRange(1,10)"
   ]
  },
  {
   "cell_type": "code",
   "execution_count": 15,
   "metadata": {},
   "outputs": [
    {
     "name": "stdout",
     "output_type": "stream",
     "text": [
      "9 7 5 3 1 "
     ]
    }
   ],
   "source": [
    "# Funtion to print the odd numbers in a reverse orderin a given range \n",
    "\n",
    "def reverseRange(start,end):\n",
    "    for value in range(end,start-1,-1):\n",
    "        if(value % 2 != 0):\n",
    "            print(value,end=\" \")\n",
    "    return\n",
    "reverseRange(1,10)"
   ]
  },
  {
   "cell_type": "code",
   "execution_count": 16,
   "metadata": {},
   "outputs": [
    {
     "data": {
      "text/plain": [
       "15150"
      ]
     },
     "execution_count": 16,
     "metadata": {},
     "output_type": "execute_result"
    }
   ],
   "source": [
    "# Funtion to calculate the sum of numbers in a given range \n",
    "\n",
    "def reverseRange(start,end):\n",
    "    sum = 0\n",
    "    for i in range(start,end+1):\n",
    "        sum = sum +i\n",
    "    return sum\n",
    "reverseRange(100,200)"
   ]
  },
  {
   "cell_type": "code",
   "execution_count": 17,
   "metadata": {},
   "outputs": [
    {
     "data": {
      "text/plain": [
       "3.0"
      ]
     },
     "execution_count": 17,
     "metadata": {},
     "output_type": "execute_result"
    }
   ],
   "source": [
    "# Function to calculate the avg of a given range\n",
    "def avgN(start,end):\n",
    "    sum = 0\n",
    "    c = 0\n",
    "    for i in range(start,end+1):\n",
    "        sum = sum + i\n",
    "        c = c+1\n",
    "        avg = sum/c\n",
    "    return avg\n",
    "avgN(1,5)"
   ]
  },
  {
   "cell_type": "code",
   "execution_count": 98,
   "metadata": {},
   "outputs": [
    {
     "name": "stdout",
     "output_type": "stream",
     "text": [
      "0,2,4,6,8,10,12,14,16,18,20,22,24,26,28,30,32,34,36,38,40,42,44,46,48,50,52,54,56,58,60,62,64,66,68,70,72,74,76,78,80,82,84,86,88,90,92,94,96,98,"
     ]
    }
   ],
   "source": [
    "for i in range(0,100,2):\n",
    "    print(i,end=\",\")\n"
   ]
  },
  {
   "cell_type": "code",
   "execution_count": 93,
   "metadata": {},
   "outputs": [
    {
     "name": "stdout",
     "output_type": "stream",
     "text": [
      "enter n value100\n",
      "0,2,4,6,8,10,12,14,16,18,20,22,24,26,28,30,32,34,36,38,40,42,44,46,48,50,52,54,56,58,60,62,64,66,68,70,72,74,76,78,80,82,84,86,88,90,92,94,96,98,100,"
     ]
    }
   ],
   "source": [
    "n = int(input(\"enter n value\"))\n",
    "def even(n):\n",
    "    i = 0\n",
    "    while i <= n:\n",
    "        print(i,end =\",\")\n",
    "        i = i+2\n",
    "    return\n",
    "even(n)"
   ]
  },
  {
   "cell_type": "code",
   "execution_count": 96,
   "metadata": {},
   "outputs": [
    {
     "name": "stdout",
     "output_type": "stream",
     "text": [
      "enter n value1000\n",
      "6,12,18,24,30,36,42,48,54,60,66,72,78,84,90,96,102,108,114,120,126,132,138,144,150,156,162,168,174,180,186,192,198,204,210,216,222,228,234,240,246,252,258,264,270,276,282,288,294,300,306,312,318,324,330,336,342,348,354,360,366,372,378,384,390,396,402,408,414,420,426,432,438,444,450,456,462,468,474,480,486,492,498,504,510,516,522,528,534,540,546,552,558,564,570,576,582,588,594,600,606,612,618,624,630,636,642,648,654,660,666,672,678,684,690,696,702,708,714,720,726,732,738,744,750,756,762,768,774,780,786,792,798,804,810,816,822,828,834,840,846,852,858,864,870,876,882,888,894,900,906,912,918,924,930,936,942,948,954,960,966,972,978,984,990,996,"
     ]
    }
   ],
   "source": [
    "# Function to print all numbers divisible by 6\n",
    "# and not a factor of 100 in a given range(lb,ub) inclusive\n",
    "\n",
    "n = int(input(\"enter n value\"))\n",
    "def divisible6(n):\n",
    "    for i in range(1,n+1):\n",
    "        if (i % 6 == 0) and (100 % i != 0):\n",
    "            print(i,end=\",\") \n",
    "    return\n",
    "divisible6(n)"
   ]
  },
  {
   "cell_type": "code",
   "execution_count": 3,
   "metadata": {},
   "outputs": [
    {
     "name": "stdout",
     "output_type": "stream",
     "text": [
      "enter n value:6\n",
      "8,\n",
      "64,\n",
      "2\n"
     ]
    },
    {
     "data": {
      "text/plain": [
       "36.0"
      ]
     },
     "execution_count": 3,
     "metadata": {},
     "output_type": "execute_result"
    }
   ],
   "source": [
    "# Function to find the average of cubes of all even numbers\n",
    "# in a given range (lb,ub) inclusive\n",
    "\n",
    "n = int(input(\"enter n value:\"))\n",
    "def avgCube(n):\n",
    "    sum = 0\n",
    "    c = 0\n",
    "    for i in range(1,n):\n",
    "        \n",
    "        if i%2 == 0:\n",
    "            \n",
    "            cube = i**3\n",
    "            sum = sum + cube\n",
    "            c = c + 1\n",
    "            avg = sum/c\n",
    "            print(cube,end=\",\")\n",
    "            print()\n",
    "    print(c)        \n",
    "    return avg\n",
    "    \n",
    "avgCube(n)"
   ]
  },
  {
   "cell_type": "code",
   "execution_count": 1,
   "metadata": {
    "scrolled": true
   },
   "outputs": [
    {
     "name": "stdout",
     "output_type": "stream",
     "text": [
      "enter n value:12\n",
      "1,2,3,4,6,12,"
     ]
    }
   ],
   "source": [
    "# Function to generate the list of factors for a given number \n",
    "# 12 -> 1 2 3 4 6 12\n",
    "\n",
    "n = int(input(\"enter n value:\"))\n",
    "def factors(n):\n",
    "    for i in range(1,n+1):\n",
    "        if (n % i == 0):\n",
    "            print(i,end=\",\")   \n",
    "factors(n)"
   ]
  },
  {
   "cell_type": "code",
   "execution_count": 7,
   "metadata": {},
   "outputs": [
    {
     "name": "stdout",
     "output_type": "stream",
     "text": [
      "enter n value:5\n"
     ]
    },
    {
     "data": {
      "text/plain": [
       "120"
      ]
     },
     "execution_count": 7,
     "metadata": {},
     "output_type": "execute_result"
    }
   ],
   "source": [
    "# Function to calculate the factorial of a given number\n",
    "n = int(input(\"enter n value:\"))\n",
    "def factorial(n):\n",
    "    f = 1\n",
    "    for i in range(1,n+1):\n",
    "            f=f*i\n",
    "    return f \n",
    "factorial(n)"
   ]
  },
  {
   "cell_type": "code",
   "execution_count": 4,
   "metadata": {},
   "outputs": [
    {
     "name": "stdout",
     "output_type": "stream",
     "text": [
      "enter n value:23\n",
      "given number is a prime\n"
     ]
    }
   ],
   "source": [
    "# Function to check if a given number is prime\n",
    "n = int(input(\"enter n value:\"))\n",
    "def prime(n):\n",
    "    c = 0\n",
    "    for i in range(1,n+1):\n",
    "        if (n % i == 0):\n",
    "            c = c+1\n",
    "            #print(i,end=\",\")\n",
    "    if (c == 2):\n",
    "        print(\"given number is a prime\")\n",
    "    else:\n",
    "        print(\"not a prime\")\n",
    "            \n",
    "prime(n)"
   ]
  },
  {
   "cell_type": "code",
   "execution_count": 10,
   "metadata": {},
   "outputs": [
    {
     "ename": "NameError",
     "evalue": "name 'prime' is not defined",
     "output_type": "error",
     "traceback": [
      "\u001b[1;31m---------------------------------------------------------------------------\u001b[0m",
      "\u001b[1;31mNameError\u001b[0m                                 Traceback (most recent call last)",
      "\u001b[1;32m<ipython-input-10-94a8d3cab7fe>\u001b[0m in \u001b[0;36m<module>\u001b[1;34m\u001b[0m\n\u001b[0;32m     11\u001b[0m         \u001b[0mc\u001b[0m  \u001b[1;33m=\u001b[0m \u001b[0mc\u001b[0m\u001b[1;33m+\u001b[0m\u001b[1;36m1\u001b[0m\u001b[1;33m\u001b[0m\u001b[1;33m\u001b[0m\u001b[0m\n\u001b[0;32m     12\u001b[0m     \u001b[1;32mreturn\u001b[0m \u001b[0msum\u001b[0m\u001b[1;33m/\u001b[0m\u001b[0mn\u001b[0m\u001b[1;33m\u001b[0m\u001b[1;33m\u001b[0m\u001b[0m\n\u001b[1;32m---> 13\u001b[1;33m \u001b[0mavgPrime\u001b[0m\u001b[1;33m(\u001b[0m\u001b[0mn\u001b[0m\u001b[1;33m)\u001b[0m\u001b[1;33m\u001b[0m\u001b[1;33m\u001b[0m\u001b[0m\n\u001b[0m\u001b[0;32m     14\u001b[0m \u001b[1;33m\u001b[0m\u001b[0m\n",
      "\u001b[1;32m<ipython-input-10-94a8d3cab7fe>\u001b[0m in \u001b[0;36mavgPrime\u001b[1;34m(n)\u001b[0m\n\u001b[0;32m      5\u001b[0m     \u001b[0mc\u001b[0m \u001b[1;33m=\u001b[0m \u001b[1;36m2\u001b[0m\u001b[1;33m\u001b[0m\u001b[1;33m\u001b[0m\u001b[0m\n\u001b[0;32m      6\u001b[0m     \u001b[1;32mwhile\u001b[0m\u001b[1;33m(\u001b[0m\u001b[0mc\u001b[0m\u001b[1;33m<\u001b[0m\u001b[0mn\u001b[0m\u001b[1;33m)\u001b[0m\u001b[1;33m:\u001b[0m\u001b[1;33m\u001b[0m\u001b[1;33m\u001b[0m\u001b[0m\n\u001b[1;32m----> 7\u001b[1;33m         \u001b[1;32mif\u001b[0m \u001b[0mprime\u001b[0m\u001b[1;33m(\u001b[0m\u001b[0mc\u001b[0m\u001b[1;33m)\u001b[0m\u001b[1;33m:\u001b[0m\u001b[1;33m\u001b[0m\u001b[1;33m\u001b[0m\u001b[0m\n\u001b[0m\u001b[0;32m      8\u001b[0m             \u001b[0mcount\u001b[0m \u001b[1;33m=\u001b[0m \u001b[0mcount\u001b[0m\u001b[1;33m+\u001b[0m\u001b[1;36m1\u001b[0m\u001b[1;33m\u001b[0m\u001b[1;33m\u001b[0m\u001b[0m\n\u001b[0;32m      9\u001b[0m             \u001b[0msum\u001b[0m \u001b[1;33m=\u001b[0m\u001b[0msum\u001b[0m \u001b[1;33m+\u001b[0m \u001b[0mcount\u001b[0m\u001b[1;33m\u001b[0m\u001b[1;33m\u001b[0m\u001b[0m\n",
      "\u001b[1;31mNameError\u001b[0m: name 'prime' is not defined"
     ]
    }
   ],
   "source": [
    "# Function to calculate the average first N prime numbers\n",
    "def avgPrime(n):\n",
    "    count = 0\n",
    "    sum = 0\n",
    "    c = 2\n",
    "    while(c<n):\n",
    "        if prime(c):\n",
    "            count = count+1\n",
    "            sum =sum + count\n",
    "            print(count)\n",
    "        c  = c+1\n",
    "    return sum/n\n",
    "avgPrime(n)\n",
    "    "
   ]
  },
  {
   "cell_type": "code",
   "execution_count": null,
   "metadata": {},
   "outputs": [],
   "source": [
    "# Function to generate all perfect numbers in a given range\n",
    "\n",
    "def isPerfect(n):\n",
    "    if factorList(n) == n:\n",
    "        return True\n",
    "    return False\n",
    "        "
   ]
  },
  {
   "cell_type": "code",
   "execution_count": 14,
   "metadata": {},
   "outputs": [
    {
     "name": "stdout",
     "output_type": "stream",
     "text": [
      "enter n value:5\n"
     ]
    },
    {
     "ename": "NameError",
     "evalue": "name 'r' is not defined",
     "output_type": "error",
     "traceback": [
      "\u001b[1;31m---------------------------------------------------------------------------\u001b[0m",
      "\u001b[1;31mNameError\u001b[0m                                 Traceback (most recent call last)",
      "\u001b[1;32m<ipython-input-14-39ba25fd82c4>\u001b[0m in \u001b[0;36m<module>\u001b[1;34m\u001b[0m\n\u001b[0;32m     19\u001b[0m \u001b[1;33m\u001b[0m\u001b[0m\n\u001b[0;32m     20\u001b[0m \u001b[1;33m\u001b[0m\u001b[0m\n\u001b[1;32m---> 21\u001b[1;33m \u001b[0mnumOfPrime\u001b[0m\u001b[1;33m(\u001b[0m\u001b[0mr\u001b[0m\u001b[1;33m)\u001b[0m\u001b[1;33m\u001b[0m\u001b[1;33m\u001b[0m\u001b[0m\n\u001b[0m",
      "\u001b[1;31mNameError\u001b[0m: name 'r' is not defined"
     ]
    }
   ],
   "source": [
    "n = int(input(\"enter n value:\"))\n",
    "def prime(n):\n",
    "    c = 0\n",
    "    for i in range(1,n+1):\n",
    "        if (n % i == 0):\n",
    "            c = c+1\n",
    "            #print(i,end=\",\")\n",
    "    if (c == 2):\n",
    "        print(\"given number is a prime\")\n",
    "    else:\n",
    "        print(\"not a prime\")\n",
    "        \n",
    "        \n",
    "def numOfPrime(r):\n",
    "    for j in range(1,r+1):\n",
    "        if prime(n) == \"True\":\n",
    "            print(j)\n",
    "            \n",
    "            \n",
    "\n",
    "numOfPrime(r)"
   ]
  },
  {
   "cell_type": "code",
   "execution_count": 6,
   "metadata": {},
   "outputs": [
    {
     "name": "stdout",
     "output_type": "stream",
     "text": [
      "98\n"
     ]
    }
   ],
   "source": [
    "S = \"abc cab\"\n",
    "S.split()\n",
    "s1 = S[0]\n",
    "s2 = S[1]\n",
    "sm1 = 0\n",
    "for ch in s1:\n",
    "    sm1 += ord(ch)\n",
    "sm2 = 0\n",
    "for ch in s2:\n",
    "    sm2 += ord(ch)\n",
    "print(sm2)\n",
    "    "
   ]
  },
  {
   "cell_type": "code",
   "execution_count": 10,
   "metadata": {},
   "outputs": [
    {
     "name": "stdout",
     "output_type": "stream",
     "text": [
      "ABcd\n",
      "abCD\n"
     ]
    }
   ],
   "source": [
    "# Toggle string without functions\n",
    "\n",
    "def toggle():\n",
    "    s = input()\n",
    "    new=\"\"\n",
    "    capitals = ['A','B','C','D','E','F']\n",
    "    small = ['a','b','c','d','e','f']\n",
    "    for i in s:\n",
    "        if i in capitals:\n",
    "            n=capitals.index(i)\n",
    "            new=new+small[n]\n",
    "        if i in small:\n",
    "            m=small.index(i)\n",
    "            new=new+capitals[m]\n",
    "    print(new)\n",
    "toggle()"
   ]
  },
  {
   "cell_type": "code",
   "execution_count": null,
   "metadata": {},
   "outputs": [],
   "source": []
  }
 ],
 "metadata": {
  "kernelspec": {
   "display_name": "Python 3",
   "language": "python",
   "name": "python3"
  },
  "language_info": {
   "codemirror_mode": {
    "name": "ipython",
    "version": 3
   },
   "file_extension": ".py",
   "mimetype": "text/x-python",
   "name": "python",
   "nbconvert_exporter": "python",
   "pygments_lexer": "ipython3",
   "version": "3.7.3"
  }
 },
 "nbformat": 4,
 "nbformat_minor": 2
}
