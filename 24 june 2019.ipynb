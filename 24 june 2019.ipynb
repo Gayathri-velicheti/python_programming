{
 "cells": [
  {
   "cell_type": "code",
   "execution_count": null,
   "metadata": {},
   "outputs": [],
   "source": [
    "# Marks analysis Application\n",
    "    # Generate the marks file for n students\n",
    "    #Input:Marks textfile --> each line contains marks of each student\n",
    "    # Genarates a report with the following information\n",
    "        # Class Average:\n",
    "        # % of students passed\n",
    "        # % of students failed\n",
    "        # % of students with distinction "
   ]
  },
  {
   "cell_type": "code",
   "execution_count": 1,
   "metadata": {},
   "outputs": [],
   "source": [
    "def readFileData(filename):\n",
    "    with open(filename, 'r') as f:\n",
    "        #for line in f:\n",
    "         #   print(line, end = '')\n",
    "        filedata = f.read()\n",
    "            \n",
    "    return filedata\n"
   ]
  },
  {
   "cell_type": "code",
   "execution_count": 16,
   "metadata": {},
   "outputs": [],
   "source": [
    "#Function to generate the marks file for n students\n",
    "\n",
    "from random import randint\n",
    "\n",
    "def generateMarks(n,lb,ub):\n",
    "    with open('Data files/marks.txt','w') as f:\n",
    "        for i in range(0,n):\n",
    "            r = randint(lb,ub)\n",
    "            f.write(str(r)+'\\n')\n",
    "    return\n",
    "generateMarks(25,0,100)\n",
    "            "
   ]
  },
  {
   "cell_type": "code",
   "execution_count": 3,
   "metadata": {},
   "outputs": [
    {
     "data": {
      "text/plain": [
       "44.28"
      ]
     },
     "execution_count": 3,
     "metadata": {},
     "output_type": "execute_result"
    }
   ],
   "source": [
    "def average(n):\n",
    "    with open(\"Data files/marks.txt\",\"r\") as f:\n",
    "        fi=f.read()\n",
    "        sum=0\n",
    "        for i in fi.split():\n",
    "            sum=sum+int(i)\n",
    "    return sum/n\n",
    "average(25)"
   ]
  },
  {
   "cell_type": "code",
   "execution_count": 4,
   "metadata": {},
   "outputs": [
    {
     "data": {
      "text/plain": [
       "88.88888888888889"
      ]
     },
     "execution_count": 4,
     "metadata": {},
     "output_type": "execute_result"
    }
   ],
   "source": [
    "def passPercentage():\n",
    "    with open(\"Data files/marks.txt\",\"r\") as f:\n",
    "        fi=f.read()\n",
    "        sum1=0\n",
    "        sum2=0\n",
    "        for i in fi.split():\n",
    "            if int(i)>=35:\n",
    "                sum1=sum1+int(i)\n",
    "        for i in fi.split():\n",
    "            sum2=sum2+int(i)\n",
    "    return (sum1/sum2)*100\n",
    "passPercentage()"
   ]
  },
  {
   "cell_type": "code",
   "execution_count": 6,
   "metadata": {},
   "outputs": [
    {
     "data": {
      "text/plain": [
       "24.209575429087625"
      ]
     },
     "execution_count": 6,
     "metadata": {},
     "output_type": "execute_result"
    }
   ],
   "source": [
    "def distinctionPercentage():\n",
    "    with open(\"Data files/marks.txt\",\"r\") as f:\n",
    "        fi=f.read()\n",
    "        sum1=0\n",
    "        sum2=0\n",
    "        for i in fi.split():\n",
    "            if int(i)>=80:\n",
    "                sum1=sum1+int(i)\n",
    "        for i in fi.split():\n",
    "            sum2=sum2+int(i)\n",
    "    return (sum1/sum2)*100\n",
    "distinctionPercentage()"
   ]
  },
  {
   "cell_type": "code",
   "execution_count": 7,
   "metadata": {},
   "outputs": [
    {
     "name": "stdout",
     "output_type": "stream",
     "text": [
      "92 : 2\n"
     ]
    }
   ],
   "source": [
    "def highestMarkfrequency():\n",
    "    with open(\"Data files/marks.txt\",\"r\") as f:\n",
    "        fi=f.read()\n",
    "        li=list(map(int,fi.split()))\n",
    "        count=0\n",
    "        for i in li:\n",
    "            if i== max(li):\n",
    "                count+=1\n",
    "        print(max(li),\":\",count)\n",
    "    \n",
    "highestMarkfrequency() "
   ]
  },
  {
   "cell_type": "code",
   "execution_count": 8,
   "metadata": {},
   "outputs": [
    {
     "name": "stdout",
     "output_type": "stream",
     "text": [
      "5 : 2\n"
     ]
    }
   ],
   "source": [
    "def lowestMarkfrequency():\n",
    "    with open(\"Data files/marks.txt\",\"r\") as f:\n",
    "        with open(\"Data files/marks.txt\",\"r\") as f:\n",
    "            fi=f.read()\n",
    "            li=list(map(int,fi.split()))\n",
    "            count=0\n",
    "            for i in li:\n",
    "                if i== min(li):\n",
    "                    count+=1\n",
    "            print(min(li),\":\",count)\n",
    "lowestMarkfrequency()\n"
   ]
  },
  {
   "cell_type": "code",
   "execution_count": 18,
   "metadata": {},
   "outputs": [
    {
     "name": "stdout",
     "output_type": "stream",
     "text": [
      "92 : 2\n",
      "None\n"
     ]
    },
    {
     "ename": "TypeError",
     "evalue": "highestMarkfrequency() takes 0 positional arguments but 1 was given",
     "output_type": "error",
     "traceback": [
      "\u001b[1;31m---------------------------------------------------------------------------\u001b[0m",
      "\u001b[1;31mTypeError\u001b[0m                                 Traceback (most recent call last)",
      "\u001b[1;32m<ipython-input-18-7f5bd6b2bc64>\u001b[0m in \u001b[0;36m<module>\u001b[1;34m\u001b[0m\n\u001b[0;32m      8\u001b[0m \u001b[0mfilepath\u001b[0m \u001b[1;33m=\u001b[0m \u001b[1;34m\"Data files/marks.txt\"\u001b[0m\u001b[1;33m\u001b[0m\u001b[1;33m\u001b[0m\u001b[0m\n\u001b[0;32m      9\u001b[0m \u001b[1;33m\u001b[0m\u001b[0m\n\u001b[1;32m---> 10\u001b[1;33m \u001b[0mgenerateReport\u001b[0m\u001b[1;33m(\u001b[0m\u001b[0mfilepath\u001b[0m\u001b[1;33m)\u001b[0m\u001b[1;33m\u001b[0m\u001b[1;33m\u001b[0m\u001b[0m\n\u001b[0m",
      "\u001b[1;32m<ipython-input-18-7f5bd6b2bc64>\u001b[0m in \u001b[0;36mgenerateReport\u001b[1;34m(filepath)\u001b[0m\n\u001b[0;32m      2\u001b[0m     \u001b[0mavg\u001b[0m \u001b[1;33m=\u001b[0m \u001b[0mhighestMarkfrequency\u001b[0m\u001b[1;33m(\u001b[0m\u001b[1;33m)\u001b[0m\u001b[1;33m\u001b[0m\u001b[1;33m\u001b[0m\u001b[0m\n\u001b[0;32m      3\u001b[0m     \u001b[0mprint\u001b[0m\u001b[1;33m(\u001b[0m\u001b[0mavg\u001b[0m\u001b[1;33m)\u001b[0m\u001b[1;33m\u001b[0m\u001b[1;33m\u001b[0m\u001b[0m\n\u001b[1;32m----> 4\u001b[1;33m     \u001b[0mhighestMarkfrequency\u001b[0m\u001b[1;33m(\u001b[0m\u001b[0mfilepath\u001b[0m\u001b[1;33m)\u001b[0m\u001b[1;33m\u001b[0m\u001b[1;33m\u001b[0m\u001b[0m\n\u001b[0m\u001b[0;32m      5\u001b[0m     \u001b[0mhighestMarkfrequency\u001b[0m\u001b[1;33m(\u001b[0m\u001b[0mfilepath\u001b[0m\u001b[1;33m)\u001b[0m\u001b[1;33m\u001b[0m\u001b[1;33m\u001b[0m\u001b[0m\n\u001b[0;32m      6\u001b[0m     \u001b[0mhighestMarkfrequency\u001b[0m\u001b[1;33m(\u001b[0m\u001b[0mfilepath\u001b[0m\u001b[1;33m)\u001b[0m\u001b[1;33m\u001b[0m\u001b[1;33m\u001b[0m\u001b[0m\n",
      "\u001b[1;31mTypeError\u001b[0m: highestMarkfrequency() takes 0 positional arguments but 1 was given"
     ]
    }
   ],
   "source": [
    "def generateReport(filepath):\n",
    "    avg = highestMarkfrequency()\n",
    "    print(avg)\n",
    "    highestMarkfrequency(filepath)\n",
    "    highestMarkfrequency(filepath)\n",
    "    highestMarkfrequency(filepath)\n",
    "\n",
    "filepath = \"Data files/marks.txt\"\n",
    "\n",
    "generateReport(filepath) "
   ]
  },
  {
   "cell_type": "code",
   "execution_count": 14,
   "metadata": {},
   "outputs": [],
   "source": [
    "# Find and replace Application\n",
    "def findAndreplace(s):\n",
    "    with open(\"Data files/data.txt\",\"r\") as f:\n",
    "        fi=f.read()\n",
    "        if s in fi.split():\n",
    "            fi=fi.replace(s,input(),fi.split().count(s))\n",
    "        else:\n",
    "            print(s,\"not found in the file\")\n",
    "        #print(fi)\n",
    "    with open(\"Data files/data.txt\",\"w\") as f:\n",
    "        f.write(fi)\n",
    "    return \"The \"+s+\" has been successfully replaced\"\n",
    "\n",
    "#findAndreplace(input()) "
   ]
  },
  {
   "cell_type": "code",
   "execution_count": 13,
   "metadata": {},
   "outputs": [
    {
     "data": {
      "text/plain": [
       "'The Tom word appears 1 times '"
      ]
     },
     "execution_count": 13,
     "metadata": {},
     "output_type": "execute_result"
    }
   ],
   "source": [
    "def totalOccurences(word):\n",
    "    with open(\"Data files/data.txt\",\"r\") as f:\n",
    "        fi=f.read()\n",
    "        for s in fi.split():\n",
    "            if s == word:\n",
    "                return \"The \"+word+\" word appears \"+str(fi.split().count(word))+\" times \"\n",
    "            else:\n",
    "                return word+\" not found in the file\"\n",
    "totalOccurences(\"Tom\")   "
   ]
  },
  {
   "cell_type": "code",
   "execution_count": 15,
   "metadata": {},
   "outputs": [
    {
     "name": "stdout",
     "output_type": "stream",
     "text": [
      "please select the one of the below options:\n",
      "\n",
      "1. Count the total no of occcurrences of a word\n",
      "2. If word is existing\n",
      "3. Replace all occurrences of a word with another word\n",
      "Tom\n"
     ]
    },
    {
     "ename": "ValueError",
     "evalue": "invalid literal for int() with base 10: 'Tom'",
     "output_type": "error",
     "traceback": [
      "\u001b[1;31m---------------------------------------------------------------------------\u001b[0m",
      "\u001b[1;31mValueError\u001b[0m                                Traceback (most recent call last)",
      "\u001b[1;32m<ipython-input-15-6236c9f37008>\u001b[0m in \u001b[0;36m<module>\u001b[1;34m\u001b[0m\n\u001b[0;32m     14\u001b[0m         \u001b[0mprint\u001b[0m\u001b[1;33m(\u001b[0m\u001b[0mfindAndreplace\u001b[0m\u001b[1;33m(\u001b[0m\u001b[0mword\u001b[0m\u001b[1;33m)\u001b[0m\u001b[1;33m)\u001b[0m\u001b[1;33m\u001b[0m\u001b[1;33m\u001b[0m\u001b[0m\n\u001b[0;32m     15\u001b[0m \u001b[1;33m\u001b[0m\u001b[0m\n\u001b[1;32m---> 16\u001b[1;33m \u001b[0mmenu\u001b[0m\u001b[1;33m(\u001b[0m\u001b[1;33m)\u001b[0m\u001b[1;33m\u001b[0m\u001b[1;33m\u001b[0m\u001b[0m\n\u001b[0m",
      "\u001b[1;32m<ipython-input-15-6236c9f37008>\u001b[0m in \u001b[0;36mmenu\u001b[1;34m()\u001b[0m\n\u001b[0;32m      6\u001b[0m     \u001b[0mprint\u001b[0m\u001b[1;33m(\u001b[0m\u001b[1;34m\"3. Replace all occurrences of a word with another word\"\u001b[0m\u001b[1;33m)\u001b[0m\u001b[1;33m\u001b[0m\u001b[1;33m\u001b[0m\u001b[0m\n\u001b[0;32m      7\u001b[0m \u001b[1;33m\u001b[0m\u001b[0m\n\u001b[1;32m----> 8\u001b[1;33m     \u001b[0mg\u001b[0m \u001b[1;33m=\u001b[0m \u001b[0mint\u001b[0m\u001b[1;33m(\u001b[0m\u001b[0minput\u001b[0m\u001b[1;33m(\u001b[0m\u001b[1;33m)\u001b[0m\u001b[1;33m)\u001b[0m\u001b[1;33m\u001b[0m\u001b[1;33m\u001b[0m\u001b[0m\n\u001b[0m\u001b[0;32m      9\u001b[0m     \u001b[1;32mif\u001b[0m \u001b[0mg\u001b[0m \u001b[1;33m==\u001b[0m \u001b[1;36m1\u001b[0m \u001b[1;32mor\u001b[0m \u001b[0mg\u001b[0m\u001b[1;33m==\u001b[0m\u001b[1;36m2\u001b[0m\u001b[1;33m:\u001b[0m\u001b[1;33m\u001b[0m\u001b[1;33m\u001b[0m\u001b[0m\n\u001b[0;32m     10\u001b[0m         \u001b[0mword\u001b[0m\u001b[1;33m=\u001b[0m\u001b[0minput\u001b[0m\u001b[1;33m(\u001b[0m\u001b[1;34m\"enter a word you want to search:\"\u001b[0m\u001b[1;33m)\u001b[0m\u001b[1;33m\u001b[0m\u001b[1;33m\u001b[0m\u001b[0m\n",
      "\u001b[1;31mValueError\u001b[0m: invalid literal for int() with base 10: 'Tom'"
     ]
    }
   ],
   "source": [
    "def menu():\n",
    "    print(\"please select the one of the below options:\")\n",
    "    print()\n",
    "    print(\"1. Count the total no of occcurrences of a word\")\n",
    "    print(\"2. If word is existing\")\n",
    "    print(\"3. Replace all occurrences of a word with another word\")\n",
    "    \n",
    "    g = int(input())\n",
    "    if g == 1 or g==2:\n",
    "        word=input(\"enter a word you want to search:\")\n",
    "        print(totalOccurences(word))\n",
    "    if g == 3:\n",
    "        word=input(\"enter a word you want to replace:\") \n",
    "        print(findAndreplace(word))\n",
    "        \n",
    "menu()      "
   ]
  },
  {
   "cell_type": "code",
   "execution_count": null,
   "metadata": {},
   "outputs": [],
   "source": []
  }
 ],
 "metadata": {
  "kernelspec": {
   "display_name": "Python 3",
   "language": "python",
   "name": "python3"
  },
  "language_info": {
   "codemirror_mode": {
    "name": "ipython",
    "version": 3
   },
   "file_extension": ".py",
   "mimetype": "text/x-python",
   "name": "python",
   "nbconvert_exporter": "python",
   "pygments_lexer": "ipython3",
   "version": "3.7.3"
  }
 },
 "nbformat": 4,
 "nbformat_minor": 2
}
